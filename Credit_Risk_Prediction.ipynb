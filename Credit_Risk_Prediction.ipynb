{
  "nbformat": 4,
  "nbformat_minor": 0,
  "metadata": {
    "colab": {
      "name": "Achmad Rero Sindunata_Credit Risk Prediction",
      "provenance": [],
      "collapsed_sections": [
        "s9t4k_ac_Axk",
        "0pgzr-gBn_di",
        "lsnQpUSToHwr",
        "zMqQfFhzSgHs",
        "q5fV8Gd6Nb7p",
        "gER9cU9LLhMi",
        "U7gq-UxzAmO-",
        "pJanGFWrLY48"
      ],
      "toc_visible": true
    },
    "kernelspec": {
      "name": "python3",
      "display_name": "Python 3"
    },
    "language_info": {
      "name": "python"
    }
  },
  "cells": [
    {
      "cell_type": "code",
      "source": [
        "from google.colab import drive\n",
        "drive.mount('/content/drive')"
      ],
      "metadata": {
        "colab": {
          "base_uri": "https://localhost:8080/"
        },
        "id": "mm9c5YNnops3",
        "outputId": "4346b601-9e6e-49ad-d89b-10c058a4982b"
      },
      "execution_count": null,
      "outputs": [
        {
          "output_type": "stream",
          "name": "stdout",
          "text": [
            "Drive already mounted at /content/drive; to attempt to forcibly remount, call drive.mount(\"/content/drive\", force_remount=True).\n"
          ]
        }
      ]
    },
    {
      "cell_type": "markdown",
      "source": [
        "# Import Library"
      ],
      "metadata": {
        "id": "s9t4k_ac_Axk"
      }
    },
    {
      "cell_type": "code",
      "execution_count": null,
      "metadata": {
        "id": "FZFb_AlP-qEf"
      },
      "outputs": [],
      "source": [
        "import pandas as pd\n",
        "import numpy as np\n",
        "import matplotlib.pyplot as plt\n",
        "import seaborn as sns\n",
        "import scipy\n",
        "pd.set_option('display.max_columns', 100)\n",
        "\n",
        "from sklearn import preprocessing\n",
        "\n",
        "#Untuk Fitur Seleksi\n",
        "from sklearn.feature_selection import SelectKBest\n",
        "from sklearn.feature_selection import chi2\n",
        "\n",
        "#Untuk Modeling\n",
        "from sklearn.model_selection import train_test_split\n",
        "from sklearn import metrics\n",
        "\n",
        "from sklearn.linear_model import LogisticRegression\n",
        "from sklearn.tree import DecisionTreeClassifier"
      ]
    },
    {
      "cell_type": "markdown",
      "source": [
        "# Dataset"
      ],
      "metadata": {
        "id": "0pgzr-gBn_di"
      }
    },
    {
      "cell_type": "code",
      "source": [
        "df = pd.read_csv(\"drive/My Drive/dataset_rakamin/loan_data_2007_2014.csv\", delimiter = \",\")"
      ],
      "metadata": {
        "colab": {
          "base_uri": "https://localhost:8080/"
        },
        "id": "UN3DxblbsQrF",
        "outputId": "7b25c2d9-5a6e-4ec1-dd1c-4b10584cd15b"
      },
      "execution_count": null,
      "outputs": [
        {
          "output_type": "stream",
          "name": "stderr",
          "text": [
            "/usr/local/lib/python3.7/dist-packages/IPython/core/interactiveshell.py:2882: DtypeWarning: Columns (20) have mixed types.Specify dtype option on import or set low_memory=False.\n",
            "  exec(code_obj, self.user_global_ns, self.user_ns)\n"
          ]
        }
      ]
    },
    {
      "cell_type": "code",
      "source": [
        "df.head()"
      ],
      "metadata": {
        "colab": {
          "base_uri": "https://localhost:8080/",
          "height": 652
        },
        "id": "ljYTjTPQ0xoo",
        "outputId": "fa05215a-df47-4795-87e1-fad0d4f9892c"
      },
      "execution_count": null,
      "outputs": [
        {
          "output_type": "execute_result",
          "data": {
            "text/plain": [
              "   Unnamed: 0       id  member_id  loan_amnt  funded_amnt  funded_amnt_inv  \\\n",
              "0           0  1077501    1296599       5000         5000           4975.0   \n",
              "1           1  1077430    1314167       2500         2500           2500.0   \n",
              "2           2  1077175    1313524       2400         2400           2400.0   \n",
              "3           3  1076863    1277178      10000        10000          10000.0   \n",
              "4           4  1075358    1311748       3000         3000           3000.0   \n",
              "\n",
              "         term  int_rate  installment grade sub_grade  \\\n",
              "0   36 months     10.65       162.87     B        B2   \n",
              "1   60 months     15.27        59.83     C        C4   \n",
              "2   36 months     15.96        84.33     C        C5   \n",
              "3   36 months     13.49       339.31     C        C1   \n",
              "4   60 months     12.69        67.79     B        B5   \n",
              "\n",
              "                  emp_title emp_length home_ownership  annual_inc  \\\n",
              "0                       NaN  10+ years           RENT     24000.0   \n",
              "1                     Ryder   < 1 year           RENT     30000.0   \n",
              "2                       NaN  10+ years           RENT     12252.0   \n",
              "3       AIR RESOURCES BOARD  10+ years           RENT     49200.0   \n",
              "4  University Medical Group     1 year           RENT     80000.0   \n",
              "\n",
              "  verification_status issue_d  loan_status pymnt_plan  \\\n",
              "0            Verified  Dec-11   Fully Paid          n   \n",
              "1     Source Verified  Dec-11  Charged Off          n   \n",
              "2        Not Verified  Dec-11   Fully Paid          n   \n",
              "3     Source Verified  Dec-11   Fully Paid          n   \n",
              "4     Source Verified  Dec-11      Current          n   \n",
              "\n",
              "                                                 url  \\\n",
              "0  https://www.lendingclub.com/browse/loanDetail....   \n",
              "1  https://www.lendingclub.com/browse/loanDetail....   \n",
              "2  https://www.lendingclub.com/browse/loanDetail....   \n",
              "3  https://www.lendingclub.com/browse/loanDetail....   \n",
              "4  https://www.lendingclub.com/browse/loanDetail....   \n",
              "\n",
              "                                                desc         purpose  \\\n",
              "0    Borrower added on 12/22/11 > I need to upgra...     credit_card   \n",
              "1    Borrower added on 12/22/11 > I plan to use t...             car   \n",
              "2                                                NaN  small_business   \n",
              "3    Borrower added on 12/21/11 > to pay for prop...           other   \n",
              "4    Borrower added on 12/21/11 > I plan on combi...           other   \n",
              "\n",
              "                  title zip_code addr_state    dti  delinq_2yrs  \\\n",
              "0              Computer    860xx         AZ  27.65          0.0   \n",
              "1                  bike    309xx         GA   1.00          0.0   \n",
              "2  real estate business    606xx         IL   8.72          0.0   \n",
              "3              personel    917xx         CA  20.00          0.0   \n",
              "4              Personal    972xx         OR  17.94          0.0   \n",
              "\n",
              "  earliest_cr_line  inq_last_6mths  mths_since_last_delinq  \\\n",
              "0           Jan-85             1.0                     NaN   \n",
              "1           Apr-99             5.0                     NaN   \n",
              "2           Nov-01             2.0                     NaN   \n",
              "3           Feb-96             1.0                    35.0   \n",
              "4           Jan-96             0.0                    38.0   \n",
              "\n",
              "   mths_since_last_record  open_acc  pub_rec  revol_bal  revol_util  \\\n",
              "0                     NaN       3.0      0.0      13648        83.7   \n",
              "1                     NaN       3.0      0.0       1687         9.4   \n",
              "2                     NaN       2.0      0.0       2956        98.5   \n",
              "3                     NaN      10.0      0.0       5598        21.0   \n",
              "4                     NaN      15.0      0.0      27783        53.9   \n",
              "\n",
              "   total_acc initial_list_status  out_prncp  out_prncp_inv   total_pymnt  \\\n",
              "0        9.0                   f        0.0            0.0   5861.071414   \n",
              "1        4.0                   f        0.0            0.0   1008.710000   \n",
              "2       10.0                   f        0.0            0.0   3003.653644   \n",
              "3       37.0                   f        0.0            0.0  12226.302210   \n",
              "4       38.0                   f      766.9          766.9   3242.170000   \n",
              "\n",
              "   total_pymnt_inv  total_rec_prncp  total_rec_int  total_rec_late_fee  \\\n",
              "0          5831.78          5000.00         861.07                0.00   \n",
              "1          1008.71           456.46         435.17                0.00   \n",
              "2          3003.65          2400.00         603.65                0.00   \n",
              "3         12226.30         10000.00        2209.33               16.97   \n",
              "4          3242.17          2233.10        1009.07                0.00   \n",
              "\n",
              "   recoveries  collection_recovery_fee last_pymnt_d  last_pymnt_amnt  \\\n",
              "0        0.00                     0.00       Jan-15           171.62   \n",
              "1      117.08                     1.11       Apr-13           119.66   \n",
              "2        0.00                     0.00       Jun-14           649.91   \n",
              "3        0.00                     0.00       Jan-15           357.48   \n",
              "4        0.00                     0.00       Jan-16            67.79   \n",
              "\n",
              "  next_pymnt_d last_credit_pull_d  collections_12_mths_ex_med  \\\n",
              "0          NaN             Jan-16                         0.0   \n",
              "1          NaN             Sep-13                         0.0   \n",
              "2          NaN             Jan-16                         0.0   \n",
              "3          NaN             Jan-15                         0.0   \n",
              "4       Feb-16             Jan-16                         0.0   \n",
              "\n",
              "   mths_since_last_major_derog  policy_code application_type  \\\n",
              "0                          NaN            1       INDIVIDUAL   \n",
              "1                          NaN            1       INDIVIDUAL   \n",
              "2                          NaN            1       INDIVIDUAL   \n",
              "3                          NaN            1       INDIVIDUAL   \n",
              "4                          NaN            1       INDIVIDUAL   \n",
              "\n",
              "   annual_inc_joint  dti_joint  verification_status_joint  acc_now_delinq  \\\n",
              "0               NaN        NaN                        NaN             0.0   \n",
              "1               NaN        NaN                        NaN             0.0   \n",
              "2               NaN        NaN                        NaN             0.0   \n",
              "3               NaN        NaN                        NaN             0.0   \n",
              "4               NaN        NaN                        NaN             0.0   \n",
              "\n",
              "   tot_coll_amt  tot_cur_bal  open_acc_6m  open_il_6m  open_il_12m  \\\n",
              "0           NaN          NaN          NaN         NaN          NaN   \n",
              "1           NaN          NaN          NaN         NaN          NaN   \n",
              "2           NaN          NaN          NaN         NaN          NaN   \n",
              "3           NaN          NaN          NaN         NaN          NaN   \n",
              "4           NaN          NaN          NaN         NaN          NaN   \n",
              "\n",
              "   open_il_24m  mths_since_rcnt_il  total_bal_il  il_util  open_rv_12m  \\\n",
              "0          NaN                 NaN           NaN      NaN          NaN   \n",
              "1          NaN                 NaN           NaN      NaN          NaN   \n",
              "2          NaN                 NaN           NaN      NaN          NaN   \n",
              "3          NaN                 NaN           NaN      NaN          NaN   \n",
              "4          NaN                 NaN           NaN      NaN          NaN   \n",
              "\n",
              "   open_rv_24m  max_bal_bc  all_util  total_rev_hi_lim  inq_fi  total_cu_tl  \\\n",
              "0          NaN         NaN       NaN               NaN     NaN          NaN   \n",
              "1          NaN         NaN       NaN               NaN     NaN          NaN   \n",
              "2          NaN         NaN       NaN               NaN     NaN          NaN   \n",
              "3          NaN         NaN       NaN               NaN     NaN          NaN   \n",
              "4          NaN         NaN       NaN               NaN     NaN          NaN   \n",
              "\n",
              "   inq_last_12m  \n",
              "0           NaN  \n",
              "1           NaN  \n",
              "2           NaN  \n",
              "3           NaN  \n",
              "4           NaN  "
            ],
            "text/html": [
              "\n",
              "  <div id=\"df-6d4a37ed-0cba-4824-aa77-4f17be94529d\">\n",
              "    <div class=\"colab-df-container\">\n",
              "      <div>\n",
              "<style scoped>\n",
              "    .dataframe tbody tr th:only-of-type {\n",
              "        vertical-align: middle;\n",
              "    }\n",
              "\n",
              "    .dataframe tbody tr th {\n",
              "        vertical-align: top;\n",
              "    }\n",
              "\n",
              "    .dataframe thead th {\n",
              "        text-align: right;\n",
              "    }\n",
              "</style>\n",
              "<table border=\"1\" class=\"dataframe\">\n",
              "  <thead>\n",
              "    <tr style=\"text-align: right;\">\n",
              "      <th></th>\n",
              "      <th>Unnamed: 0</th>\n",
              "      <th>id</th>\n",
              "      <th>member_id</th>\n",
              "      <th>loan_amnt</th>\n",
              "      <th>funded_amnt</th>\n",
              "      <th>funded_amnt_inv</th>\n",
              "      <th>term</th>\n",
              "      <th>int_rate</th>\n",
              "      <th>installment</th>\n",
              "      <th>grade</th>\n",
              "      <th>sub_grade</th>\n",
              "      <th>emp_title</th>\n",
              "      <th>emp_length</th>\n",
              "      <th>home_ownership</th>\n",
              "      <th>annual_inc</th>\n",
              "      <th>verification_status</th>\n",
              "      <th>issue_d</th>\n",
              "      <th>loan_status</th>\n",
              "      <th>pymnt_plan</th>\n",
              "      <th>url</th>\n",
              "      <th>desc</th>\n",
              "      <th>purpose</th>\n",
              "      <th>title</th>\n",
              "      <th>zip_code</th>\n",
              "      <th>addr_state</th>\n",
              "      <th>dti</th>\n",
              "      <th>delinq_2yrs</th>\n",
              "      <th>earliest_cr_line</th>\n",
              "      <th>inq_last_6mths</th>\n",
              "      <th>mths_since_last_delinq</th>\n",
              "      <th>mths_since_last_record</th>\n",
              "      <th>open_acc</th>\n",
              "      <th>pub_rec</th>\n",
              "      <th>revol_bal</th>\n",
              "      <th>revol_util</th>\n",
              "      <th>total_acc</th>\n",
              "      <th>initial_list_status</th>\n",
              "      <th>out_prncp</th>\n",
              "      <th>out_prncp_inv</th>\n",
              "      <th>total_pymnt</th>\n",
              "      <th>total_pymnt_inv</th>\n",
              "      <th>total_rec_prncp</th>\n",
              "      <th>total_rec_int</th>\n",
              "      <th>total_rec_late_fee</th>\n",
              "      <th>recoveries</th>\n",
              "      <th>collection_recovery_fee</th>\n",
              "      <th>last_pymnt_d</th>\n",
              "      <th>last_pymnt_amnt</th>\n",
              "      <th>next_pymnt_d</th>\n",
              "      <th>last_credit_pull_d</th>\n",
              "      <th>collections_12_mths_ex_med</th>\n",
              "      <th>mths_since_last_major_derog</th>\n",
              "      <th>policy_code</th>\n",
              "      <th>application_type</th>\n",
              "      <th>annual_inc_joint</th>\n",
              "      <th>dti_joint</th>\n",
              "      <th>verification_status_joint</th>\n",
              "      <th>acc_now_delinq</th>\n",
              "      <th>tot_coll_amt</th>\n",
              "      <th>tot_cur_bal</th>\n",
              "      <th>open_acc_6m</th>\n",
              "      <th>open_il_6m</th>\n",
              "      <th>open_il_12m</th>\n",
              "      <th>open_il_24m</th>\n",
              "      <th>mths_since_rcnt_il</th>\n",
              "      <th>total_bal_il</th>\n",
              "      <th>il_util</th>\n",
              "      <th>open_rv_12m</th>\n",
              "      <th>open_rv_24m</th>\n",
              "      <th>max_bal_bc</th>\n",
              "      <th>all_util</th>\n",
              "      <th>total_rev_hi_lim</th>\n",
              "      <th>inq_fi</th>\n",
              "      <th>total_cu_tl</th>\n",
              "      <th>inq_last_12m</th>\n",
              "    </tr>\n",
              "  </thead>\n",
              "  <tbody>\n",
              "    <tr>\n",
              "      <th>0</th>\n",
              "      <td>0</td>\n",
              "      <td>1077501</td>\n",
              "      <td>1296599</td>\n",
              "      <td>5000</td>\n",
              "      <td>5000</td>\n",
              "      <td>4975.0</td>\n",
              "      <td>36 months</td>\n",
              "      <td>10.65</td>\n",
              "      <td>162.87</td>\n",
              "      <td>B</td>\n",
              "      <td>B2</td>\n",
              "      <td>NaN</td>\n",
              "      <td>10+ years</td>\n",
              "      <td>RENT</td>\n",
              "      <td>24000.0</td>\n",
              "      <td>Verified</td>\n",
              "      <td>Dec-11</td>\n",
              "      <td>Fully Paid</td>\n",
              "      <td>n</td>\n",
              "      <td>https://www.lendingclub.com/browse/loanDetail....</td>\n",
              "      <td>Borrower added on 12/22/11 &gt; I need to upgra...</td>\n",
              "      <td>credit_card</td>\n",
              "      <td>Computer</td>\n",
              "      <td>860xx</td>\n",
              "      <td>AZ</td>\n",
              "      <td>27.65</td>\n",
              "      <td>0.0</td>\n",
              "      <td>Jan-85</td>\n",
              "      <td>1.0</td>\n",
              "      <td>NaN</td>\n",
              "      <td>NaN</td>\n",
              "      <td>3.0</td>\n",
              "      <td>0.0</td>\n",
              "      <td>13648</td>\n",
              "      <td>83.7</td>\n",
              "      <td>9.0</td>\n",
              "      <td>f</td>\n",
              "      <td>0.0</td>\n",
              "      <td>0.0</td>\n",
              "      <td>5861.071414</td>\n",
              "      <td>5831.78</td>\n",
              "      <td>5000.00</td>\n",
              "      <td>861.07</td>\n",
              "      <td>0.00</td>\n",
              "      <td>0.00</td>\n",
              "      <td>0.00</td>\n",
              "      <td>Jan-15</td>\n",
              "      <td>171.62</td>\n",
              "      <td>NaN</td>\n",
              "      <td>Jan-16</td>\n",
              "      <td>0.0</td>\n",
              "      <td>NaN</td>\n",
              "      <td>1</td>\n",
              "      <td>INDIVIDUAL</td>\n",
              "      <td>NaN</td>\n",
              "      <td>NaN</td>\n",
              "      <td>NaN</td>\n",
              "      <td>0.0</td>\n",
              "      <td>NaN</td>\n",
              "      <td>NaN</td>\n",
              "      <td>NaN</td>\n",
              "      <td>NaN</td>\n",
              "      <td>NaN</td>\n",
              "      <td>NaN</td>\n",
              "      <td>NaN</td>\n",
              "      <td>NaN</td>\n",
              "      <td>NaN</td>\n",
              "      <td>NaN</td>\n",
              "      <td>NaN</td>\n",
              "      <td>NaN</td>\n",
              "      <td>NaN</td>\n",
              "      <td>NaN</td>\n",
              "      <td>NaN</td>\n",
              "      <td>NaN</td>\n",
              "      <td>NaN</td>\n",
              "    </tr>\n",
              "    <tr>\n",
              "      <th>1</th>\n",
              "      <td>1</td>\n",
              "      <td>1077430</td>\n",
              "      <td>1314167</td>\n",
              "      <td>2500</td>\n",
              "      <td>2500</td>\n",
              "      <td>2500.0</td>\n",
              "      <td>60 months</td>\n",
              "      <td>15.27</td>\n",
              "      <td>59.83</td>\n",
              "      <td>C</td>\n",
              "      <td>C4</td>\n",
              "      <td>Ryder</td>\n",
              "      <td>&lt; 1 year</td>\n",
              "      <td>RENT</td>\n",
              "      <td>30000.0</td>\n",
              "      <td>Source Verified</td>\n",
              "      <td>Dec-11</td>\n",
              "      <td>Charged Off</td>\n",
              "      <td>n</td>\n",
              "      <td>https://www.lendingclub.com/browse/loanDetail....</td>\n",
              "      <td>Borrower added on 12/22/11 &gt; I plan to use t...</td>\n",
              "      <td>car</td>\n",
              "      <td>bike</td>\n",
              "      <td>309xx</td>\n",
              "      <td>GA</td>\n",
              "      <td>1.00</td>\n",
              "      <td>0.0</td>\n",
              "      <td>Apr-99</td>\n",
              "      <td>5.0</td>\n",
              "      <td>NaN</td>\n",
              "      <td>NaN</td>\n",
              "      <td>3.0</td>\n",
              "      <td>0.0</td>\n",
              "      <td>1687</td>\n",
              "      <td>9.4</td>\n",
              "      <td>4.0</td>\n",
              "      <td>f</td>\n",
              "      <td>0.0</td>\n",
              "      <td>0.0</td>\n",
              "      <td>1008.710000</td>\n",
              "      <td>1008.71</td>\n",
              "      <td>456.46</td>\n",
              "      <td>435.17</td>\n",
              "      <td>0.00</td>\n",
              "      <td>117.08</td>\n",
              "      <td>1.11</td>\n",
              "      <td>Apr-13</td>\n",
              "      <td>119.66</td>\n",
              "      <td>NaN</td>\n",
              "      <td>Sep-13</td>\n",
              "      <td>0.0</td>\n",
              "      <td>NaN</td>\n",
              "      <td>1</td>\n",
              "      <td>INDIVIDUAL</td>\n",
              "      <td>NaN</td>\n",
              "      <td>NaN</td>\n",
              "      <td>NaN</td>\n",
              "      <td>0.0</td>\n",
              "      <td>NaN</td>\n",
              "      <td>NaN</td>\n",
              "      <td>NaN</td>\n",
              "      <td>NaN</td>\n",
              "      <td>NaN</td>\n",
              "      <td>NaN</td>\n",
              "      <td>NaN</td>\n",
              "      <td>NaN</td>\n",
              "      <td>NaN</td>\n",
              "      <td>NaN</td>\n",
              "      <td>NaN</td>\n",
              "      <td>NaN</td>\n",
              "      <td>NaN</td>\n",
              "      <td>NaN</td>\n",
              "      <td>NaN</td>\n",
              "      <td>NaN</td>\n",
              "      <td>NaN</td>\n",
              "    </tr>\n",
              "    <tr>\n",
              "      <th>2</th>\n",
              "      <td>2</td>\n",
              "      <td>1077175</td>\n",
              "      <td>1313524</td>\n",
              "      <td>2400</td>\n",
              "      <td>2400</td>\n",
              "      <td>2400.0</td>\n",
              "      <td>36 months</td>\n",
              "      <td>15.96</td>\n",
              "      <td>84.33</td>\n",
              "      <td>C</td>\n",
              "      <td>C5</td>\n",
              "      <td>NaN</td>\n",
              "      <td>10+ years</td>\n",
              "      <td>RENT</td>\n",
              "      <td>12252.0</td>\n",
              "      <td>Not Verified</td>\n",
              "      <td>Dec-11</td>\n",
              "      <td>Fully Paid</td>\n",
              "      <td>n</td>\n",
              "      <td>https://www.lendingclub.com/browse/loanDetail....</td>\n",
              "      <td>NaN</td>\n",
              "      <td>small_business</td>\n",
              "      <td>real estate business</td>\n",
              "      <td>606xx</td>\n",
              "      <td>IL</td>\n",
              "      <td>8.72</td>\n",
              "      <td>0.0</td>\n",
              "      <td>Nov-01</td>\n",
              "      <td>2.0</td>\n",
              "      <td>NaN</td>\n",
              "      <td>NaN</td>\n",
              "      <td>2.0</td>\n",
              "      <td>0.0</td>\n",
              "      <td>2956</td>\n",
              "      <td>98.5</td>\n",
              "      <td>10.0</td>\n",
              "      <td>f</td>\n",
              "      <td>0.0</td>\n",
              "      <td>0.0</td>\n",
              "      <td>3003.653644</td>\n",
              "      <td>3003.65</td>\n",
              "      <td>2400.00</td>\n",
              "      <td>603.65</td>\n",
              "      <td>0.00</td>\n",
              "      <td>0.00</td>\n",
              "      <td>0.00</td>\n",
              "      <td>Jun-14</td>\n",
              "      <td>649.91</td>\n",
              "      <td>NaN</td>\n",
              "      <td>Jan-16</td>\n",
              "      <td>0.0</td>\n",
              "      <td>NaN</td>\n",
              "      <td>1</td>\n",
              "      <td>INDIVIDUAL</td>\n",
              "      <td>NaN</td>\n",
              "      <td>NaN</td>\n",
              "      <td>NaN</td>\n",
              "      <td>0.0</td>\n",
              "      <td>NaN</td>\n",
              "      <td>NaN</td>\n",
              "      <td>NaN</td>\n",
              "      <td>NaN</td>\n",
              "      <td>NaN</td>\n",
              "      <td>NaN</td>\n",
              "      <td>NaN</td>\n",
              "      <td>NaN</td>\n",
              "      <td>NaN</td>\n",
              "      <td>NaN</td>\n",
              "      <td>NaN</td>\n",
              "      <td>NaN</td>\n",
              "      <td>NaN</td>\n",
              "      <td>NaN</td>\n",
              "      <td>NaN</td>\n",
              "      <td>NaN</td>\n",
              "      <td>NaN</td>\n",
              "    </tr>\n",
              "    <tr>\n",
              "      <th>3</th>\n",
              "      <td>3</td>\n",
              "      <td>1076863</td>\n",
              "      <td>1277178</td>\n",
              "      <td>10000</td>\n",
              "      <td>10000</td>\n",
              "      <td>10000.0</td>\n",
              "      <td>36 months</td>\n",
              "      <td>13.49</td>\n",
              "      <td>339.31</td>\n",
              "      <td>C</td>\n",
              "      <td>C1</td>\n",
              "      <td>AIR RESOURCES BOARD</td>\n",
              "      <td>10+ years</td>\n",
              "      <td>RENT</td>\n",
              "      <td>49200.0</td>\n",
              "      <td>Source Verified</td>\n",
              "      <td>Dec-11</td>\n",
              "      <td>Fully Paid</td>\n",
              "      <td>n</td>\n",
              "      <td>https://www.lendingclub.com/browse/loanDetail....</td>\n",
              "      <td>Borrower added on 12/21/11 &gt; to pay for prop...</td>\n",
              "      <td>other</td>\n",
              "      <td>personel</td>\n",
              "      <td>917xx</td>\n",
              "      <td>CA</td>\n",
              "      <td>20.00</td>\n",
              "      <td>0.0</td>\n",
              "      <td>Feb-96</td>\n",
              "      <td>1.0</td>\n",
              "      <td>35.0</td>\n",
              "      <td>NaN</td>\n",
              "      <td>10.0</td>\n",
              "      <td>0.0</td>\n",
              "      <td>5598</td>\n",
              "      <td>21.0</td>\n",
              "      <td>37.0</td>\n",
              "      <td>f</td>\n",
              "      <td>0.0</td>\n",
              "      <td>0.0</td>\n",
              "      <td>12226.302210</td>\n",
              "      <td>12226.30</td>\n",
              "      <td>10000.00</td>\n",
              "      <td>2209.33</td>\n",
              "      <td>16.97</td>\n",
              "      <td>0.00</td>\n",
              "      <td>0.00</td>\n",
              "      <td>Jan-15</td>\n",
              "      <td>357.48</td>\n",
              "      <td>NaN</td>\n",
              "      <td>Jan-15</td>\n",
              "      <td>0.0</td>\n",
              "      <td>NaN</td>\n",
              "      <td>1</td>\n",
              "      <td>INDIVIDUAL</td>\n",
              "      <td>NaN</td>\n",
              "      <td>NaN</td>\n",
              "      <td>NaN</td>\n",
              "      <td>0.0</td>\n",
              "      <td>NaN</td>\n",
              "      <td>NaN</td>\n",
              "      <td>NaN</td>\n",
              "      <td>NaN</td>\n",
              "      <td>NaN</td>\n",
              "      <td>NaN</td>\n",
              "      <td>NaN</td>\n",
              "      <td>NaN</td>\n",
              "      <td>NaN</td>\n",
              "      <td>NaN</td>\n",
              "      <td>NaN</td>\n",
              "      <td>NaN</td>\n",
              "      <td>NaN</td>\n",
              "      <td>NaN</td>\n",
              "      <td>NaN</td>\n",
              "      <td>NaN</td>\n",
              "      <td>NaN</td>\n",
              "    </tr>\n",
              "    <tr>\n",
              "      <th>4</th>\n",
              "      <td>4</td>\n",
              "      <td>1075358</td>\n",
              "      <td>1311748</td>\n",
              "      <td>3000</td>\n",
              "      <td>3000</td>\n",
              "      <td>3000.0</td>\n",
              "      <td>60 months</td>\n",
              "      <td>12.69</td>\n",
              "      <td>67.79</td>\n",
              "      <td>B</td>\n",
              "      <td>B5</td>\n",
              "      <td>University Medical Group</td>\n",
              "      <td>1 year</td>\n",
              "      <td>RENT</td>\n",
              "      <td>80000.0</td>\n",
              "      <td>Source Verified</td>\n",
              "      <td>Dec-11</td>\n",
              "      <td>Current</td>\n",
              "      <td>n</td>\n",
              "      <td>https://www.lendingclub.com/browse/loanDetail....</td>\n",
              "      <td>Borrower added on 12/21/11 &gt; I plan on combi...</td>\n",
              "      <td>other</td>\n",
              "      <td>Personal</td>\n",
              "      <td>972xx</td>\n",
              "      <td>OR</td>\n",
              "      <td>17.94</td>\n",
              "      <td>0.0</td>\n",
              "      <td>Jan-96</td>\n",
              "      <td>0.0</td>\n",
              "      <td>38.0</td>\n",
              "      <td>NaN</td>\n",
              "      <td>15.0</td>\n",
              "      <td>0.0</td>\n",
              "      <td>27783</td>\n",
              "      <td>53.9</td>\n",
              "      <td>38.0</td>\n",
              "      <td>f</td>\n",
              "      <td>766.9</td>\n",
              "      <td>766.9</td>\n",
              "      <td>3242.170000</td>\n",
              "      <td>3242.17</td>\n",
              "      <td>2233.10</td>\n",
              "      <td>1009.07</td>\n",
              "      <td>0.00</td>\n",
              "      <td>0.00</td>\n",
              "      <td>0.00</td>\n",
              "      <td>Jan-16</td>\n",
              "      <td>67.79</td>\n",
              "      <td>Feb-16</td>\n",
              "      <td>Jan-16</td>\n",
              "      <td>0.0</td>\n",
              "      <td>NaN</td>\n",
              "      <td>1</td>\n",
              "      <td>INDIVIDUAL</td>\n",
              "      <td>NaN</td>\n",
              "      <td>NaN</td>\n",
              "      <td>NaN</td>\n",
              "      <td>0.0</td>\n",
              "      <td>NaN</td>\n",
              "      <td>NaN</td>\n",
              "      <td>NaN</td>\n",
              "      <td>NaN</td>\n",
              "      <td>NaN</td>\n",
              "      <td>NaN</td>\n",
              "      <td>NaN</td>\n",
              "      <td>NaN</td>\n",
              "      <td>NaN</td>\n",
              "      <td>NaN</td>\n",
              "      <td>NaN</td>\n",
              "      <td>NaN</td>\n",
              "      <td>NaN</td>\n",
              "      <td>NaN</td>\n",
              "      <td>NaN</td>\n",
              "      <td>NaN</td>\n",
              "      <td>NaN</td>\n",
              "    </tr>\n",
              "  </tbody>\n",
              "</table>\n",
              "</div>\n",
              "      <button class=\"colab-df-convert\" onclick=\"convertToInteractive('df-6d4a37ed-0cba-4824-aa77-4f17be94529d')\"\n",
              "              title=\"Convert this dataframe to an interactive table.\"\n",
              "              style=\"display:none;\">\n",
              "        \n",
              "  <svg xmlns=\"http://www.w3.org/2000/svg\" height=\"24px\"viewBox=\"0 0 24 24\"\n",
              "       width=\"24px\">\n",
              "    <path d=\"M0 0h24v24H0V0z\" fill=\"none\"/>\n",
              "    <path d=\"M18.56 5.44l.94 2.06.94-2.06 2.06-.94-2.06-.94-.94-2.06-.94 2.06-2.06.94zm-11 1L8.5 8.5l.94-2.06 2.06-.94-2.06-.94L8.5 2.5l-.94 2.06-2.06.94zm10 10l.94 2.06.94-2.06 2.06-.94-2.06-.94-.94-2.06-.94 2.06-2.06.94z\"/><path d=\"M17.41 7.96l-1.37-1.37c-.4-.4-.92-.59-1.43-.59-.52 0-1.04.2-1.43.59L10.3 9.45l-7.72 7.72c-.78.78-.78 2.05 0 2.83L4 21.41c.39.39.9.59 1.41.59.51 0 1.02-.2 1.41-.59l7.78-7.78 2.81-2.81c.8-.78.8-2.07 0-2.86zM5.41 20L4 18.59l7.72-7.72 1.47 1.35L5.41 20z\"/>\n",
              "  </svg>\n",
              "      </button>\n",
              "      \n",
              "  <style>\n",
              "    .colab-df-container {\n",
              "      display:flex;\n",
              "      flex-wrap:wrap;\n",
              "      gap: 12px;\n",
              "    }\n",
              "\n",
              "    .colab-df-convert {\n",
              "      background-color: #E8F0FE;\n",
              "      border: none;\n",
              "      border-radius: 50%;\n",
              "      cursor: pointer;\n",
              "      display: none;\n",
              "      fill: #1967D2;\n",
              "      height: 32px;\n",
              "      padding: 0 0 0 0;\n",
              "      width: 32px;\n",
              "    }\n",
              "\n",
              "    .colab-df-convert:hover {\n",
              "      background-color: #E2EBFA;\n",
              "      box-shadow: 0px 1px 2px rgba(60, 64, 67, 0.3), 0px 1px 3px 1px rgba(60, 64, 67, 0.15);\n",
              "      fill: #174EA6;\n",
              "    }\n",
              "\n",
              "    [theme=dark] .colab-df-convert {\n",
              "      background-color: #3B4455;\n",
              "      fill: #D2E3FC;\n",
              "    }\n",
              "\n",
              "    [theme=dark] .colab-df-convert:hover {\n",
              "      background-color: #434B5C;\n",
              "      box-shadow: 0px 1px 3px 1px rgba(0, 0, 0, 0.15);\n",
              "      filter: drop-shadow(0px 1px 2px rgba(0, 0, 0, 0.3));\n",
              "      fill: #FFFFFF;\n",
              "    }\n",
              "  </style>\n",
              "\n",
              "      <script>\n",
              "        const buttonEl =\n",
              "          document.querySelector('#df-6d4a37ed-0cba-4824-aa77-4f17be94529d button.colab-df-convert');\n",
              "        buttonEl.style.display =\n",
              "          google.colab.kernel.accessAllowed ? 'block' : 'none';\n",
              "\n",
              "        async function convertToInteractive(key) {\n",
              "          const element = document.querySelector('#df-6d4a37ed-0cba-4824-aa77-4f17be94529d');\n",
              "          const dataTable =\n",
              "            await google.colab.kernel.invokeFunction('convertToInteractive',\n",
              "                                                     [key], {});\n",
              "          if (!dataTable) return;\n",
              "\n",
              "          const docLinkHtml = 'Like what you see? Visit the ' +\n",
              "            '<a target=\"_blank\" href=https://colab.research.google.com/notebooks/data_table.ipynb>data table notebook</a>'\n",
              "            + ' to learn more about interactive tables.';\n",
              "          element.innerHTML = '';\n",
              "          dataTable['output_type'] = 'display_data';\n",
              "          await google.colab.output.renderOutput(dataTable, element);\n",
              "          const docLink = document.createElement('div');\n",
              "          docLink.innerHTML = docLinkHtml;\n",
              "          element.appendChild(docLink);\n",
              "        }\n",
              "      </script>\n",
              "    </div>\n",
              "  </div>\n",
              "  "
            ]
          },
          "metadata": {},
          "execution_count": 4
        }
      ]
    },
    {
      "cell_type": "code",
      "source": [
        "# melihat kolom\n",
        "col_name = df.columns.tolist()\n",
        "col_name"
      ],
      "metadata": {
        "colab": {
          "base_uri": "https://localhost:8080/"
        },
        "id": "Kean_IuZ6IXn",
        "outputId": "4ef8487b-bbd0-473d-8723-c8226129c901"
      },
      "execution_count": null,
      "outputs": [
        {
          "output_type": "execute_result",
          "data": {
            "text/plain": [
              "['Unnamed: 0',\n",
              " 'id',\n",
              " 'member_id',\n",
              " 'loan_amnt',\n",
              " 'funded_amnt',\n",
              " 'funded_amnt_inv',\n",
              " 'term',\n",
              " 'int_rate',\n",
              " 'installment',\n",
              " 'grade',\n",
              " 'sub_grade',\n",
              " 'emp_title',\n",
              " 'emp_length',\n",
              " 'home_ownership',\n",
              " 'annual_inc',\n",
              " 'verification_status',\n",
              " 'issue_d',\n",
              " 'loan_status',\n",
              " 'pymnt_plan',\n",
              " 'url',\n",
              " 'desc',\n",
              " 'purpose',\n",
              " 'title',\n",
              " 'zip_code',\n",
              " 'addr_state',\n",
              " 'dti',\n",
              " 'delinq_2yrs',\n",
              " 'earliest_cr_line',\n",
              " 'inq_last_6mths',\n",
              " 'mths_since_last_delinq',\n",
              " 'mths_since_last_record',\n",
              " 'open_acc',\n",
              " 'pub_rec',\n",
              " 'revol_bal',\n",
              " 'revol_util',\n",
              " 'total_acc',\n",
              " 'initial_list_status',\n",
              " 'out_prncp',\n",
              " 'out_prncp_inv',\n",
              " 'total_pymnt',\n",
              " 'total_pymnt_inv',\n",
              " 'total_rec_prncp',\n",
              " 'total_rec_int',\n",
              " 'total_rec_late_fee',\n",
              " 'recoveries',\n",
              " 'collection_recovery_fee',\n",
              " 'last_pymnt_d',\n",
              " 'last_pymnt_amnt',\n",
              " 'next_pymnt_d',\n",
              " 'last_credit_pull_d',\n",
              " 'collections_12_mths_ex_med',\n",
              " 'mths_since_last_major_derog',\n",
              " 'policy_code',\n",
              " 'application_type',\n",
              " 'annual_inc_joint',\n",
              " 'dti_joint',\n",
              " 'verification_status_joint',\n",
              " 'acc_now_delinq',\n",
              " 'tot_coll_amt',\n",
              " 'tot_cur_bal',\n",
              " 'open_acc_6m',\n",
              " 'open_il_6m',\n",
              " 'open_il_12m',\n",
              " 'open_il_24m',\n",
              " 'mths_since_rcnt_il',\n",
              " 'total_bal_il',\n",
              " 'il_util',\n",
              " 'open_rv_12m',\n",
              " 'open_rv_24m',\n",
              " 'max_bal_bc',\n",
              " 'all_util',\n",
              " 'total_rev_hi_lim',\n",
              " 'inq_fi',\n",
              " 'total_cu_tl',\n",
              " 'inq_last_12m']"
            ]
          },
          "metadata": {},
          "execution_count": 5
        }
      ]
    },
    {
      "cell_type": "markdown",
      "source": [
        "# Data Exploration"
      ],
      "metadata": {
        "id": "lsnQpUSToHwr"
      }
    },
    {
      "cell_type": "code",
      "source": [
        "df.shape"
      ],
      "metadata": {
        "colab": {
          "base_uri": "https://localhost:8080/"
        },
        "id": "L_fWdUTW08jd",
        "outputId": "417645cf-2723-4647-a83c-e43ccecbd7ad"
      },
      "execution_count": null,
      "outputs": [
        {
          "output_type": "execute_result",
          "data": {
            "text/plain": [
              "(466285, 75)"
            ]
          },
          "metadata": {},
          "execution_count": 6
        }
      ]
    },
    {
      "cell_type": "code",
      "source": [
        "df.info()"
      ],
      "metadata": {
        "colab": {
          "base_uri": "https://localhost:8080/"
        },
        "id": "OE0DjtbR0_U-",
        "outputId": "c845bf7a-9613-4588-8b87-6d3e5f288554"
      },
      "execution_count": null,
      "outputs": [
        {
          "output_type": "stream",
          "name": "stdout",
          "text": [
            "<class 'pandas.core.frame.DataFrame'>\n",
            "RangeIndex: 466285 entries, 0 to 466284\n",
            "Data columns (total 75 columns):\n",
            " #   Column                       Non-Null Count   Dtype  \n",
            "---  ------                       --------------   -----  \n",
            " 0   Unnamed: 0                   466285 non-null  int64  \n",
            " 1   id                           466285 non-null  int64  \n",
            " 2   member_id                    466285 non-null  int64  \n",
            " 3   loan_amnt                    466285 non-null  int64  \n",
            " 4   funded_amnt                  466285 non-null  int64  \n",
            " 5   funded_amnt_inv              466285 non-null  float64\n",
            " 6   term                         466285 non-null  object \n",
            " 7   int_rate                     466285 non-null  float64\n",
            " 8   installment                  466285 non-null  float64\n",
            " 9   grade                        466285 non-null  object \n",
            " 10  sub_grade                    466285 non-null  object \n",
            " 11  emp_title                    438697 non-null  object \n",
            " 12  emp_length                   445277 non-null  object \n",
            " 13  home_ownership               466285 non-null  object \n",
            " 14  annual_inc                   466281 non-null  float64\n",
            " 15  verification_status          466285 non-null  object \n",
            " 16  issue_d                      466285 non-null  object \n",
            " 17  loan_status                  466285 non-null  object \n",
            " 18  pymnt_plan                   466285 non-null  object \n",
            " 19  url                          466285 non-null  object \n",
            " 20  desc                         125983 non-null  object \n",
            " 21  purpose                      466285 non-null  object \n",
            " 22  title                        466265 non-null  object \n",
            " 23  zip_code                     466285 non-null  object \n",
            " 24  addr_state                   466285 non-null  object \n",
            " 25  dti                          466285 non-null  float64\n",
            " 26  delinq_2yrs                  466256 non-null  float64\n",
            " 27  earliest_cr_line             466256 non-null  object \n",
            " 28  inq_last_6mths               466256 non-null  float64\n",
            " 29  mths_since_last_delinq       215934 non-null  float64\n",
            " 30  mths_since_last_record       62638 non-null   float64\n",
            " 31  open_acc                     466256 non-null  float64\n",
            " 32  pub_rec                      466256 non-null  float64\n",
            " 33  revol_bal                    466285 non-null  int64  \n",
            " 34  revol_util                   465945 non-null  float64\n",
            " 35  total_acc                    466256 non-null  float64\n",
            " 36  initial_list_status          466285 non-null  object \n",
            " 37  out_prncp                    466285 non-null  float64\n",
            " 38  out_prncp_inv                466285 non-null  float64\n",
            " 39  total_pymnt                  466285 non-null  float64\n",
            " 40  total_pymnt_inv              466285 non-null  float64\n",
            " 41  total_rec_prncp              466285 non-null  float64\n",
            " 42  total_rec_int                466285 non-null  float64\n",
            " 43  total_rec_late_fee           466285 non-null  float64\n",
            " 44  recoveries                   466285 non-null  float64\n",
            " 45  collection_recovery_fee      466285 non-null  float64\n",
            " 46  last_pymnt_d                 465909 non-null  object \n",
            " 47  last_pymnt_amnt              466285 non-null  float64\n",
            " 48  next_pymnt_d                 239071 non-null  object \n",
            " 49  last_credit_pull_d           466243 non-null  object \n",
            " 50  collections_12_mths_ex_med   466140 non-null  float64\n",
            " 51  mths_since_last_major_derog  98974 non-null   float64\n",
            " 52  policy_code                  466285 non-null  int64  \n",
            " 53  application_type             466285 non-null  object \n",
            " 54  annual_inc_joint             0 non-null       float64\n",
            " 55  dti_joint                    0 non-null       float64\n",
            " 56  verification_status_joint    0 non-null       float64\n",
            " 57  acc_now_delinq               466256 non-null  float64\n",
            " 58  tot_coll_amt                 396009 non-null  float64\n",
            " 59  tot_cur_bal                  396009 non-null  float64\n",
            " 60  open_acc_6m                  0 non-null       float64\n",
            " 61  open_il_6m                   0 non-null       float64\n",
            " 62  open_il_12m                  0 non-null       float64\n",
            " 63  open_il_24m                  0 non-null       float64\n",
            " 64  mths_since_rcnt_il           0 non-null       float64\n",
            " 65  total_bal_il                 0 non-null       float64\n",
            " 66  il_util                      0 non-null       float64\n",
            " 67  open_rv_12m                  0 non-null       float64\n",
            " 68  open_rv_24m                  0 non-null       float64\n",
            " 69  max_bal_bc                   0 non-null       float64\n",
            " 70  all_util                     0 non-null       float64\n",
            " 71  total_rev_hi_lim             396009 non-null  float64\n",
            " 72  inq_fi                       0 non-null       float64\n",
            " 73  total_cu_tl                  0 non-null       float64\n",
            " 74  inq_last_12m                 0 non-null       float64\n",
            "dtypes: float64(46), int64(7), object(22)\n",
            "memory usage: 266.8+ MB\n"
          ]
        }
      ]
    },
    {
      "cell_type": "code",
      "source": [
        "#Menghapus kolom Unnamed: 0 karena tidak diperlukan\n",
        "\n",
        "df.drop([\"Unnamed: 0\"], axis=1, inplace=True)"
      ],
      "metadata": {
        "id": "Zt41ngWDDHZr"
      },
      "execution_count": null,
      "outputs": []
    },
    {
      "cell_type": "code",
      "source": [
        "df.head(5)"
      ],
      "metadata": {
        "colab": {
          "base_uri": "https://localhost:8080/",
          "height": 635
        },
        "id": "_GNXBloQ_7kQ",
        "outputId": "c1cadc10-fb46-484e-d2fe-a951da9b6811"
      },
      "execution_count": null,
      "outputs": [
        {
          "output_type": "execute_result",
          "data": {
            "text/plain": [
              "        id  member_id  loan_amnt  funded_amnt  funded_amnt_inv        term  \\\n",
              "0  1077501    1296599       5000         5000           4975.0   36 months   \n",
              "1  1077430    1314167       2500         2500           2500.0   60 months   \n",
              "2  1077175    1313524       2400         2400           2400.0   36 months   \n",
              "3  1076863    1277178      10000        10000          10000.0   36 months   \n",
              "4  1075358    1311748       3000         3000           3000.0   60 months   \n",
              "\n",
              "   int_rate  installment grade sub_grade                 emp_title emp_length  \\\n",
              "0     10.65       162.87     B        B2                       NaN  10+ years   \n",
              "1     15.27        59.83     C        C4                     Ryder   < 1 year   \n",
              "2     15.96        84.33     C        C5                       NaN  10+ years   \n",
              "3     13.49       339.31     C        C1       AIR RESOURCES BOARD  10+ years   \n",
              "4     12.69        67.79     B        B5  University Medical Group     1 year   \n",
              "\n",
              "  home_ownership  annual_inc verification_status issue_d  loan_status  \\\n",
              "0           RENT     24000.0            Verified  Dec-11   Fully Paid   \n",
              "1           RENT     30000.0     Source Verified  Dec-11  Charged Off   \n",
              "2           RENT     12252.0        Not Verified  Dec-11   Fully Paid   \n",
              "3           RENT     49200.0     Source Verified  Dec-11   Fully Paid   \n",
              "4           RENT     80000.0     Source Verified  Dec-11      Current   \n",
              "\n",
              "  pymnt_plan                                                url  \\\n",
              "0          n  https://www.lendingclub.com/browse/loanDetail....   \n",
              "1          n  https://www.lendingclub.com/browse/loanDetail....   \n",
              "2          n  https://www.lendingclub.com/browse/loanDetail....   \n",
              "3          n  https://www.lendingclub.com/browse/loanDetail....   \n",
              "4          n  https://www.lendingclub.com/browse/loanDetail....   \n",
              "\n",
              "                                                desc         purpose  \\\n",
              "0    Borrower added on 12/22/11 > I need to upgra...     credit_card   \n",
              "1    Borrower added on 12/22/11 > I plan to use t...             car   \n",
              "2                                                NaN  small_business   \n",
              "3    Borrower added on 12/21/11 > to pay for prop...           other   \n",
              "4    Borrower added on 12/21/11 > I plan on combi...           other   \n",
              "\n",
              "                  title zip_code addr_state    dti  delinq_2yrs  \\\n",
              "0              Computer    860xx         AZ  27.65          0.0   \n",
              "1                  bike    309xx         GA   1.00          0.0   \n",
              "2  real estate business    606xx         IL   8.72          0.0   \n",
              "3              personel    917xx         CA  20.00          0.0   \n",
              "4              Personal    972xx         OR  17.94          0.0   \n",
              "\n",
              "  earliest_cr_line  inq_last_6mths  mths_since_last_delinq  \\\n",
              "0           Jan-85             1.0                     NaN   \n",
              "1           Apr-99             5.0                     NaN   \n",
              "2           Nov-01             2.0                     NaN   \n",
              "3           Feb-96             1.0                    35.0   \n",
              "4           Jan-96             0.0                    38.0   \n",
              "\n",
              "   mths_since_last_record  open_acc  pub_rec  revol_bal  revol_util  \\\n",
              "0                     NaN       3.0      0.0      13648        83.7   \n",
              "1                     NaN       3.0      0.0       1687         9.4   \n",
              "2                     NaN       2.0      0.0       2956        98.5   \n",
              "3                     NaN      10.0      0.0       5598        21.0   \n",
              "4                     NaN      15.0      0.0      27783        53.9   \n",
              "\n",
              "   total_acc initial_list_status  out_prncp  out_prncp_inv   total_pymnt  \\\n",
              "0        9.0                   f        0.0            0.0   5861.071414   \n",
              "1        4.0                   f        0.0            0.0   1008.710000   \n",
              "2       10.0                   f        0.0            0.0   3003.653644   \n",
              "3       37.0                   f        0.0            0.0  12226.302210   \n",
              "4       38.0                   f      766.9          766.9   3242.170000   \n",
              "\n",
              "   total_pymnt_inv  total_rec_prncp  total_rec_int  total_rec_late_fee  \\\n",
              "0          5831.78          5000.00         861.07                0.00   \n",
              "1          1008.71           456.46         435.17                0.00   \n",
              "2          3003.65          2400.00         603.65                0.00   \n",
              "3         12226.30         10000.00        2209.33               16.97   \n",
              "4          3242.17          2233.10        1009.07                0.00   \n",
              "\n",
              "   recoveries  collection_recovery_fee last_pymnt_d  last_pymnt_amnt  \\\n",
              "0        0.00                     0.00       Jan-15           171.62   \n",
              "1      117.08                     1.11       Apr-13           119.66   \n",
              "2        0.00                     0.00       Jun-14           649.91   \n",
              "3        0.00                     0.00       Jan-15           357.48   \n",
              "4        0.00                     0.00       Jan-16            67.79   \n",
              "\n",
              "  next_pymnt_d last_credit_pull_d  collections_12_mths_ex_med  \\\n",
              "0          NaN             Jan-16                         0.0   \n",
              "1          NaN             Sep-13                         0.0   \n",
              "2          NaN             Jan-16                         0.0   \n",
              "3          NaN             Jan-15                         0.0   \n",
              "4       Feb-16             Jan-16                         0.0   \n",
              "\n",
              "   mths_since_last_major_derog  policy_code application_type  \\\n",
              "0                          NaN            1       INDIVIDUAL   \n",
              "1                          NaN            1       INDIVIDUAL   \n",
              "2                          NaN            1       INDIVIDUAL   \n",
              "3                          NaN            1       INDIVIDUAL   \n",
              "4                          NaN            1       INDIVIDUAL   \n",
              "\n",
              "   annual_inc_joint  dti_joint  verification_status_joint  acc_now_delinq  \\\n",
              "0               NaN        NaN                        NaN             0.0   \n",
              "1               NaN        NaN                        NaN             0.0   \n",
              "2               NaN        NaN                        NaN             0.0   \n",
              "3               NaN        NaN                        NaN             0.0   \n",
              "4               NaN        NaN                        NaN             0.0   \n",
              "\n",
              "   tot_coll_amt  tot_cur_bal  open_acc_6m  open_il_6m  open_il_12m  \\\n",
              "0           NaN          NaN          NaN         NaN          NaN   \n",
              "1           NaN          NaN          NaN         NaN          NaN   \n",
              "2           NaN          NaN          NaN         NaN          NaN   \n",
              "3           NaN          NaN          NaN         NaN          NaN   \n",
              "4           NaN          NaN          NaN         NaN          NaN   \n",
              "\n",
              "   open_il_24m  mths_since_rcnt_il  total_bal_il  il_util  open_rv_12m  \\\n",
              "0          NaN                 NaN           NaN      NaN          NaN   \n",
              "1          NaN                 NaN           NaN      NaN          NaN   \n",
              "2          NaN                 NaN           NaN      NaN          NaN   \n",
              "3          NaN                 NaN           NaN      NaN          NaN   \n",
              "4          NaN                 NaN           NaN      NaN          NaN   \n",
              "\n",
              "   open_rv_24m  max_bal_bc  all_util  total_rev_hi_lim  inq_fi  total_cu_tl  \\\n",
              "0          NaN         NaN       NaN               NaN     NaN          NaN   \n",
              "1          NaN         NaN       NaN               NaN     NaN          NaN   \n",
              "2          NaN         NaN       NaN               NaN     NaN          NaN   \n",
              "3          NaN         NaN       NaN               NaN     NaN          NaN   \n",
              "4          NaN         NaN       NaN               NaN     NaN          NaN   \n",
              "\n",
              "   inq_last_12m  \n",
              "0           NaN  \n",
              "1           NaN  \n",
              "2           NaN  \n",
              "3           NaN  \n",
              "4           NaN  "
            ],
            "text/html": [
              "\n",
              "  <div id=\"df-0844c93f-595f-4355-9bb3-5ee311c2469a\">\n",
              "    <div class=\"colab-df-container\">\n",
              "      <div>\n",
              "<style scoped>\n",
              "    .dataframe tbody tr th:only-of-type {\n",
              "        vertical-align: middle;\n",
              "    }\n",
              "\n",
              "    .dataframe tbody tr th {\n",
              "        vertical-align: top;\n",
              "    }\n",
              "\n",
              "    .dataframe thead th {\n",
              "        text-align: right;\n",
              "    }\n",
              "</style>\n",
              "<table border=\"1\" class=\"dataframe\">\n",
              "  <thead>\n",
              "    <tr style=\"text-align: right;\">\n",
              "      <th></th>\n",
              "      <th>id</th>\n",
              "      <th>member_id</th>\n",
              "      <th>loan_amnt</th>\n",
              "      <th>funded_amnt</th>\n",
              "      <th>funded_amnt_inv</th>\n",
              "      <th>term</th>\n",
              "      <th>int_rate</th>\n",
              "      <th>installment</th>\n",
              "      <th>grade</th>\n",
              "      <th>sub_grade</th>\n",
              "      <th>emp_title</th>\n",
              "      <th>emp_length</th>\n",
              "      <th>home_ownership</th>\n",
              "      <th>annual_inc</th>\n",
              "      <th>verification_status</th>\n",
              "      <th>issue_d</th>\n",
              "      <th>loan_status</th>\n",
              "      <th>pymnt_plan</th>\n",
              "      <th>url</th>\n",
              "      <th>desc</th>\n",
              "      <th>purpose</th>\n",
              "      <th>title</th>\n",
              "      <th>zip_code</th>\n",
              "      <th>addr_state</th>\n",
              "      <th>dti</th>\n",
              "      <th>delinq_2yrs</th>\n",
              "      <th>earliest_cr_line</th>\n",
              "      <th>inq_last_6mths</th>\n",
              "      <th>mths_since_last_delinq</th>\n",
              "      <th>mths_since_last_record</th>\n",
              "      <th>open_acc</th>\n",
              "      <th>pub_rec</th>\n",
              "      <th>revol_bal</th>\n",
              "      <th>revol_util</th>\n",
              "      <th>total_acc</th>\n",
              "      <th>initial_list_status</th>\n",
              "      <th>out_prncp</th>\n",
              "      <th>out_prncp_inv</th>\n",
              "      <th>total_pymnt</th>\n",
              "      <th>total_pymnt_inv</th>\n",
              "      <th>total_rec_prncp</th>\n",
              "      <th>total_rec_int</th>\n",
              "      <th>total_rec_late_fee</th>\n",
              "      <th>recoveries</th>\n",
              "      <th>collection_recovery_fee</th>\n",
              "      <th>last_pymnt_d</th>\n",
              "      <th>last_pymnt_amnt</th>\n",
              "      <th>next_pymnt_d</th>\n",
              "      <th>last_credit_pull_d</th>\n",
              "      <th>collections_12_mths_ex_med</th>\n",
              "      <th>mths_since_last_major_derog</th>\n",
              "      <th>policy_code</th>\n",
              "      <th>application_type</th>\n",
              "      <th>annual_inc_joint</th>\n",
              "      <th>dti_joint</th>\n",
              "      <th>verification_status_joint</th>\n",
              "      <th>acc_now_delinq</th>\n",
              "      <th>tot_coll_amt</th>\n",
              "      <th>tot_cur_bal</th>\n",
              "      <th>open_acc_6m</th>\n",
              "      <th>open_il_6m</th>\n",
              "      <th>open_il_12m</th>\n",
              "      <th>open_il_24m</th>\n",
              "      <th>mths_since_rcnt_il</th>\n",
              "      <th>total_bal_il</th>\n",
              "      <th>il_util</th>\n",
              "      <th>open_rv_12m</th>\n",
              "      <th>open_rv_24m</th>\n",
              "      <th>max_bal_bc</th>\n",
              "      <th>all_util</th>\n",
              "      <th>total_rev_hi_lim</th>\n",
              "      <th>inq_fi</th>\n",
              "      <th>total_cu_tl</th>\n",
              "      <th>inq_last_12m</th>\n",
              "    </tr>\n",
              "  </thead>\n",
              "  <tbody>\n",
              "    <tr>\n",
              "      <th>0</th>\n",
              "      <td>1077501</td>\n",
              "      <td>1296599</td>\n",
              "      <td>5000</td>\n",
              "      <td>5000</td>\n",
              "      <td>4975.0</td>\n",
              "      <td>36 months</td>\n",
              "      <td>10.65</td>\n",
              "      <td>162.87</td>\n",
              "      <td>B</td>\n",
              "      <td>B2</td>\n",
              "      <td>NaN</td>\n",
              "      <td>10+ years</td>\n",
              "      <td>RENT</td>\n",
              "      <td>24000.0</td>\n",
              "      <td>Verified</td>\n",
              "      <td>Dec-11</td>\n",
              "      <td>Fully Paid</td>\n",
              "      <td>n</td>\n",
              "      <td>https://www.lendingclub.com/browse/loanDetail....</td>\n",
              "      <td>Borrower added on 12/22/11 &gt; I need to upgra...</td>\n",
              "      <td>credit_card</td>\n",
              "      <td>Computer</td>\n",
              "      <td>860xx</td>\n",
              "      <td>AZ</td>\n",
              "      <td>27.65</td>\n",
              "      <td>0.0</td>\n",
              "      <td>Jan-85</td>\n",
              "      <td>1.0</td>\n",
              "      <td>NaN</td>\n",
              "      <td>NaN</td>\n",
              "      <td>3.0</td>\n",
              "      <td>0.0</td>\n",
              "      <td>13648</td>\n",
              "      <td>83.7</td>\n",
              "      <td>9.0</td>\n",
              "      <td>f</td>\n",
              "      <td>0.0</td>\n",
              "      <td>0.0</td>\n",
              "      <td>5861.071414</td>\n",
              "      <td>5831.78</td>\n",
              "      <td>5000.00</td>\n",
              "      <td>861.07</td>\n",
              "      <td>0.00</td>\n",
              "      <td>0.00</td>\n",
              "      <td>0.00</td>\n",
              "      <td>Jan-15</td>\n",
              "      <td>171.62</td>\n",
              "      <td>NaN</td>\n",
              "      <td>Jan-16</td>\n",
              "      <td>0.0</td>\n",
              "      <td>NaN</td>\n",
              "      <td>1</td>\n",
              "      <td>INDIVIDUAL</td>\n",
              "      <td>NaN</td>\n",
              "      <td>NaN</td>\n",
              "      <td>NaN</td>\n",
              "      <td>0.0</td>\n",
              "      <td>NaN</td>\n",
              "      <td>NaN</td>\n",
              "      <td>NaN</td>\n",
              "      <td>NaN</td>\n",
              "      <td>NaN</td>\n",
              "      <td>NaN</td>\n",
              "      <td>NaN</td>\n",
              "      <td>NaN</td>\n",
              "      <td>NaN</td>\n",
              "      <td>NaN</td>\n",
              "      <td>NaN</td>\n",
              "      <td>NaN</td>\n",
              "      <td>NaN</td>\n",
              "      <td>NaN</td>\n",
              "      <td>NaN</td>\n",
              "      <td>NaN</td>\n",
              "      <td>NaN</td>\n",
              "    </tr>\n",
              "    <tr>\n",
              "      <th>1</th>\n",
              "      <td>1077430</td>\n",
              "      <td>1314167</td>\n",
              "      <td>2500</td>\n",
              "      <td>2500</td>\n",
              "      <td>2500.0</td>\n",
              "      <td>60 months</td>\n",
              "      <td>15.27</td>\n",
              "      <td>59.83</td>\n",
              "      <td>C</td>\n",
              "      <td>C4</td>\n",
              "      <td>Ryder</td>\n",
              "      <td>&lt; 1 year</td>\n",
              "      <td>RENT</td>\n",
              "      <td>30000.0</td>\n",
              "      <td>Source Verified</td>\n",
              "      <td>Dec-11</td>\n",
              "      <td>Charged Off</td>\n",
              "      <td>n</td>\n",
              "      <td>https://www.lendingclub.com/browse/loanDetail....</td>\n",
              "      <td>Borrower added on 12/22/11 &gt; I plan to use t...</td>\n",
              "      <td>car</td>\n",
              "      <td>bike</td>\n",
              "      <td>309xx</td>\n",
              "      <td>GA</td>\n",
              "      <td>1.00</td>\n",
              "      <td>0.0</td>\n",
              "      <td>Apr-99</td>\n",
              "      <td>5.0</td>\n",
              "      <td>NaN</td>\n",
              "      <td>NaN</td>\n",
              "      <td>3.0</td>\n",
              "      <td>0.0</td>\n",
              "      <td>1687</td>\n",
              "      <td>9.4</td>\n",
              "      <td>4.0</td>\n",
              "      <td>f</td>\n",
              "      <td>0.0</td>\n",
              "      <td>0.0</td>\n",
              "      <td>1008.710000</td>\n",
              "      <td>1008.71</td>\n",
              "      <td>456.46</td>\n",
              "      <td>435.17</td>\n",
              "      <td>0.00</td>\n",
              "      <td>117.08</td>\n",
              "      <td>1.11</td>\n",
              "      <td>Apr-13</td>\n",
              "      <td>119.66</td>\n",
              "      <td>NaN</td>\n",
              "      <td>Sep-13</td>\n",
              "      <td>0.0</td>\n",
              "      <td>NaN</td>\n",
              "      <td>1</td>\n",
              "      <td>INDIVIDUAL</td>\n",
              "      <td>NaN</td>\n",
              "      <td>NaN</td>\n",
              "      <td>NaN</td>\n",
              "      <td>0.0</td>\n",
              "      <td>NaN</td>\n",
              "      <td>NaN</td>\n",
              "      <td>NaN</td>\n",
              "      <td>NaN</td>\n",
              "      <td>NaN</td>\n",
              "      <td>NaN</td>\n",
              "      <td>NaN</td>\n",
              "      <td>NaN</td>\n",
              "      <td>NaN</td>\n",
              "      <td>NaN</td>\n",
              "      <td>NaN</td>\n",
              "      <td>NaN</td>\n",
              "      <td>NaN</td>\n",
              "      <td>NaN</td>\n",
              "      <td>NaN</td>\n",
              "      <td>NaN</td>\n",
              "      <td>NaN</td>\n",
              "    </tr>\n",
              "    <tr>\n",
              "      <th>2</th>\n",
              "      <td>1077175</td>\n",
              "      <td>1313524</td>\n",
              "      <td>2400</td>\n",
              "      <td>2400</td>\n",
              "      <td>2400.0</td>\n",
              "      <td>36 months</td>\n",
              "      <td>15.96</td>\n",
              "      <td>84.33</td>\n",
              "      <td>C</td>\n",
              "      <td>C5</td>\n",
              "      <td>NaN</td>\n",
              "      <td>10+ years</td>\n",
              "      <td>RENT</td>\n",
              "      <td>12252.0</td>\n",
              "      <td>Not Verified</td>\n",
              "      <td>Dec-11</td>\n",
              "      <td>Fully Paid</td>\n",
              "      <td>n</td>\n",
              "      <td>https://www.lendingclub.com/browse/loanDetail....</td>\n",
              "      <td>NaN</td>\n",
              "      <td>small_business</td>\n",
              "      <td>real estate business</td>\n",
              "      <td>606xx</td>\n",
              "      <td>IL</td>\n",
              "      <td>8.72</td>\n",
              "      <td>0.0</td>\n",
              "      <td>Nov-01</td>\n",
              "      <td>2.0</td>\n",
              "      <td>NaN</td>\n",
              "      <td>NaN</td>\n",
              "      <td>2.0</td>\n",
              "      <td>0.0</td>\n",
              "      <td>2956</td>\n",
              "      <td>98.5</td>\n",
              "      <td>10.0</td>\n",
              "      <td>f</td>\n",
              "      <td>0.0</td>\n",
              "      <td>0.0</td>\n",
              "      <td>3003.653644</td>\n",
              "      <td>3003.65</td>\n",
              "      <td>2400.00</td>\n",
              "      <td>603.65</td>\n",
              "      <td>0.00</td>\n",
              "      <td>0.00</td>\n",
              "      <td>0.00</td>\n",
              "      <td>Jun-14</td>\n",
              "      <td>649.91</td>\n",
              "      <td>NaN</td>\n",
              "      <td>Jan-16</td>\n",
              "      <td>0.0</td>\n",
              "      <td>NaN</td>\n",
              "      <td>1</td>\n",
              "      <td>INDIVIDUAL</td>\n",
              "      <td>NaN</td>\n",
              "      <td>NaN</td>\n",
              "      <td>NaN</td>\n",
              "      <td>0.0</td>\n",
              "      <td>NaN</td>\n",
              "      <td>NaN</td>\n",
              "      <td>NaN</td>\n",
              "      <td>NaN</td>\n",
              "      <td>NaN</td>\n",
              "      <td>NaN</td>\n",
              "      <td>NaN</td>\n",
              "      <td>NaN</td>\n",
              "      <td>NaN</td>\n",
              "      <td>NaN</td>\n",
              "      <td>NaN</td>\n",
              "      <td>NaN</td>\n",
              "      <td>NaN</td>\n",
              "      <td>NaN</td>\n",
              "      <td>NaN</td>\n",
              "      <td>NaN</td>\n",
              "      <td>NaN</td>\n",
              "    </tr>\n",
              "    <tr>\n",
              "      <th>3</th>\n",
              "      <td>1076863</td>\n",
              "      <td>1277178</td>\n",
              "      <td>10000</td>\n",
              "      <td>10000</td>\n",
              "      <td>10000.0</td>\n",
              "      <td>36 months</td>\n",
              "      <td>13.49</td>\n",
              "      <td>339.31</td>\n",
              "      <td>C</td>\n",
              "      <td>C1</td>\n",
              "      <td>AIR RESOURCES BOARD</td>\n",
              "      <td>10+ years</td>\n",
              "      <td>RENT</td>\n",
              "      <td>49200.0</td>\n",
              "      <td>Source Verified</td>\n",
              "      <td>Dec-11</td>\n",
              "      <td>Fully Paid</td>\n",
              "      <td>n</td>\n",
              "      <td>https://www.lendingclub.com/browse/loanDetail....</td>\n",
              "      <td>Borrower added on 12/21/11 &gt; to pay for prop...</td>\n",
              "      <td>other</td>\n",
              "      <td>personel</td>\n",
              "      <td>917xx</td>\n",
              "      <td>CA</td>\n",
              "      <td>20.00</td>\n",
              "      <td>0.0</td>\n",
              "      <td>Feb-96</td>\n",
              "      <td>1.0</td>\n",
              "      <td>35.0</td>\n",
              "      <td>NaN</td>\n",
              "      <td>10.0</td>\n",
              "      <td>0.0</td>\n",
              "      <td>5598</td>\n",
              "      <td>21.0</td>\n",
              "      <td>37.0</td>\n",
              "      <td>f</td>\n",
              "      <td>0.0</td>\n",
              "      <td>0.0</td>\n",
              "      <td>12226.302210</td>\n",
              "      <td>12226.30</td>\n",
              "      <td>10000.00</td>\n",
              "      <td>2209.33</td>\n",
              "      <td>16.97</td>\n",
              "      <td>0.00</td>\n",
              "      <td>0.00</td>\n",
              "      <td>Jan-15</td>\n",
              "      <td>357.48</td>\n",
              "      <td>NaN</td>\n",
              "      <td>Jan-15</td>\n",
              "      <td>0.0</td>\n",
              "      <td>NaN</td>\n",
              "      <td>1</td>\n",
              "      <td>INDIVIDUAL</td>\n",
              "      <td>NaN</td>\n",
              "      <td>NaN</td>\n",
              "      <td>NaN</td>\n",
              "      <td>0.0</td>\n",
              "      <td>NaN</td>\n",
              "      <td>NaN</td>\n",
              "      <td>NaN</td>\n",
              "      <td>NaN</td>\n",
              "      <td>NaN</td>\n",
              "      <td>NaN</td>\n",
              "      <td>NaN</td>\n",
              "      <td>NaN</td>\n",
              "      <td>NaN</td>\n",
              "      <td>NaN</td>\n",
              "      <td>NaN</td>\n",
              "      <td>NaN</td>\n",
              "      <td>NaN</td>\n",
              "      <td>NaN</td>\n",
              "      <td>NaN</td>\n",
              "      <td>NaN</td>\n",
              "      <td>NaN</td>\n",
              "    </tr>\n",
              "    <tr>\n",
              "      <th>4</th>\n",
              "      <td>1075358</td>\n",
              "      <td>1311748</td>\n",
              "      <td>3000</td>\n",
              "      <td>3000</td>\n",
              "      <td>3000.0</td>\n",
              "      <td>60 months</td>\n",
              "      <td>12.69</td>\n",
              "      <td>67.79</td>\n",
              "      <td>B</td>\n",
              "      <td>B5</td>\n",
              "      <td>University Medical Group</td>\n",
              "      <td>1 year</td>\n",
              "      <td>RENT</td>\n",
              "      <td>80000.0</td>\n",
              "      <td>Source Verified</td>\n",
              "      <td>Dec-11</td>\n",
              "      <td>Current</td>\n",
              "      <td>n</td>\n",
              "      <td>https://www.lendingclub.com/browse/loanDetail....</td>\n",
              "      <td>Borrower added on 12/21/11 &gt; I plan on combi...</td>\n",
              "      <td>other</td>\n",
              "      <td>Personal</td>\n",
              "      <td>972xx</td>\n",
              "      <td>OR</td>\n",
              "      <td>17.94</td>\n",
              "      <td>0.0</td>\n",
              "      <td>Jan-96</td>\n",
              "      <td>0.0</td>\n",
              "      <td>38.0</td>\n",
              "      <td>NaN</td>\n",
              "      <td>15.0</td>\n",
              "      <td>0.0</td>\n",
              "      <td>27783</td>\n",
              "      <td>53.9</td>\n",
              "      <td>38.0</td>\n",
              "      <td>f</td>\n",
              "      <td>766.9</td>\n",
              "      <td>766.9</td>\n",
              "      <td>3242.170000</td>\n",
              "      <td>3242.17</td>\n",
              "      <td>2233.10</td>\n",
              "      <td>1009.07</td>\n",
              "      <td>0.00</td>\n",
              "      <td>0.00</td>\n",
              "      <td>0.00</td>\n",
              "      <td>Jan-16</td>\n",
              "      <td>67.79</td>\n",
              "      <td>Feb-16</td>\n",
              "      <td>Jan-16</td>\n",
              "      <td>0.0</td>\n",
              "      <td>NaN</td>\n",
              "      <td>1</td>\n",
              "      <td>INDIVIDUAL</td>\n",
              "      <td>NaN</td>\n",
              "      <td>NaN</td>\n",
              "      <td>NaN</td>\n",
              "      <td>0.0</td>\n",
              "      <td>NaN</td>\n",
              "      <td>NaN</td>\n",
              "      <td>NaN</td>\n",
              "      <td>NaN</td>\n",
              "      <td>NaN</td>\n",
              "      <td>NaN</td>\n",
              "      <td>NaN</td>\n",
              "      <td>NaN</td>\n",
              "      <td>NaN</td>\n",
              "      <td>NaN</td>\n",
              "      <td>NaN</td>\n",
              "      <td>NaN</td>\n",
              "      <td>NaN</td>\n",
              "      <td>NaN</td>\n",
              "      <td>NaN</td>\n",
              "      <td>NaN</td>\n",
              "      <td>NaN</td>\n",
              "    </tr>\n",
              "  </tbody>\n",
              "</table>\n",
              "</div>\n",
              "      <button class=\"colab-df-convert\" onclick=\"convertToInteractive('df-0844c93f-595f-4355-9bb3-5ee311c2469a')\"\n",
              "              title=\"Convert this dataframe to an interactive table.\"\n",
              "              style=\"display:none;\">\n",
              "        \n",
              "  <svg xmlns=\"http://www.w3.org/2000/svg\" height=\"24px\"viewBox=\"0 0 24 24\"\n",
              "       width=\"24px\">\n",
              "    <path d=\"M0 0h24v24H0V0z\" fill=\"none\"/>\n",
              "    <path d=\"M18.56 5.44l.94 2.06.94-2.06 2.06-.94-2.06-.94-.94-2.06-.94 2.06-2.06.94zm-11 1L8.5 8.5l.94-2.06 2.06-.94-2.06-.94L8.5 2.5l-.94 2.06-2.06.94zm10 10l.94 2.06.94-2.06 2.06-.94-2.06-.94-.94-2.06-.94 2.06-2.06.94z\"/><path d=\"M17.41 7.96l-1.37-1.37c-.4-.4-.92-.59-1.43-.59-.52 0-1.04.2-1.43.59L10.3 9.45l-7.72 7.72c-.78.78-.78 2.05 0 2.83L4 21.41c.39.39.9.59 1.41.59.51 0 1.02-.2 1.41-.59l7.78-7.78 2.81-2.81c.8-.78.8-2.07 0-2.86zM5.41 20L4 18.59l7.72-7.72 1.47 1.35L5.41 20z\"/>\n",
              "  </svg>\n",
              "      </button>\n",
              "      \n",
              "  <style>\n",
              "    .colab-df-container {\n",
              "      display:flex;\n",
              "      flex-wrap:wrap;\n",
              "      gap: 12px;\n",
              "    }\n",
              "\n",
              "    .colab-df-convert {\n",
              "      background-color: #E8F0FE;\n",
              "      border: none;\n",
              "      border-radius: 50%;\n",
              "      cursor: pointer;\n",
              "      display: none;\n",
              "      fill: #1967D2;\n",
              "      height: 32px;\n",
              "      padding: 0 0 0 0;\n",
              "      width: 32px;\n",
              "    }\n",
              "\n",
              "    .colab-df-convert:hover {\n",
              "      background-color: #E2EBFA;\n",
              "      box-shadow: 0px 1px 2px rgba(60, 64, 67, 0.3), 0px 1px 3px 1px rgba(60, 64, 67, 0.15);\n",
              "      fill: #174EA6;\n",
              "    }\n",
              "\n",
              "    [theme=dark] .colab-df-convert {\n",
              "      background-color: #3B4455;\n",
              "      fill: #D2E3FC;\n",
              "    }\n",
              "\n",
              "    [theme=dark] .colab-df-convert:hover {\n",
              "      background-color: #434B5C;\n",
              "      box-shadow: 0px 1px 3px 1px rgba(0, 0, 0, 0.15);\n",
              "      filter: drop-shadow(0px 1px 2px rgba(0, 0, 0, 0.3));\n",
              "      fill: #FFFFFF;\n",
              "    }\n",
              "  </style>\n",
              "\n",
              "      <script>\n",
              "        const buttonEl =\n",
              "          document.querySelector('#df-0844c93f-595f-4355-9bb3-5ee311c2469a button.colab-df-convert');\n",
              "        buttonEl.style.display =\n",
              "          google.colab.kernel.accessAllowed ? 'block' : 'none';\n",
              "\n",
              "        async function convertToInteractive(key) {\n",
              "          const element = document.querySelector('#df-0844c93f-595f-4355-9bb3-5ee311c2469a');\n",
              "          const dataTable =\n",
              "            await google.colab.kernel.invokeFunction('convertToInteractive',\n",
              "                                                     [key], {});\n",
              "          if (!dataTable) return;\n",
              "\n",
              "          const docLinkHtml = 'Like what you see? Visit the ' +\n",
              "            '<a target=\"_blank\" href=https://colab.research.google.com/notebooks/data_table.ipynb>data table notebook</a>'\n",
              "            + ' to learn more about interactive tables.';\n",
              "          element.innerHTML = '';\n",
              "          dataTable['output_type'] = 'display_data';\n",
              "          await google.colab.output.renderOutput(dataTable, element);\n",
              "          const docLink = document.createElement('div');\n",
              "          docLink.innerHTML = docLinkHtml;\n",
              "          element.appendChild(docLink);\n",
              "        }\n",
              "      </script>\n",
              "    </div>\n",
              "  </div>\n",
              "  "
            ]
          },
          "metadata": {},
          "execution_count": 9
        }
      ]
    },
    {
      "cell_type": "markdown",
      "source": [
        "##Visualisai Data"
      ],
      "metadata": {
        "id": "guE70WgHvHBc"
      }
    },
    {
      "cell_type": "code",
      "source": [
        "# Untuk melihat frekuensi dari variabel loan_status\n",
        "print(df['loan_status'].value_counts())"
      ],
      "metadata": {
        "colab": {
          "base_uri": "https://localhost:8080/"
        },
        "id": "bcbRQXvShGmi",
        "outputId": "346b1ddd-4628-4075-cfbe-9bea7555659e"
      },
      "execution_count": null,
      "outputs": [
        {
          "output_type": "stream",
          "name": "stdout",
          "text": [
            "Current                                                224226\n",
            "Fully Paid                                             184739\n",
            "Charged Off                                             42475\n",
            "Late (31-120 days)                                       6900\n",
            "In Grace Period                                          3146\n",
            "Does not meet the credit policy. Status:Fully Paid       1988\n",
            "Late (16-30 days)                                        1218\n",
            "Default                                                   832\n",
            "Does not meet the credit policy. Status:Charged Off       761\n",
            "Name: loan_status, dtype: int64\n"
          ]
        }
      ]
    },
    {
      "cell_type": "code",
      "source": [
        "# Untuk melihat proporsi dari variabel loan_status\n",
        "print(df['loan_status'].value_counts(normalize=True) * 100)\n",
        "df['loan_status'].value_counts().plot.pie(autopct=\"%1.1f%%\", figsize=(10,5))"
      ],
      "metadata": {
        "colab": {
          "base_uri": "https://localhost:8080/",
          "height": 494
        },
        "id": "pZDY2u1Pjoz8",
        "outputId": "91d84daa-0f9b-4f87-e85e-84f782527d96"
      },
      "execution_count": null,
      "outputs": [
        {
          "output_type": "stream",
          "name": "stdout",
          "text": [
            "Current                                                48.087757\n",
            "Fully Paid                                             39.619332\n",
            "Charged Off                                             9.109236\n",
            "Late (31-120 days)                                      1.479782\n",
            "In Grace Period                                         0.674695\n",
            "Does not meet the credit policy. Status:Fully Paid      0.426349\n",
            "Late (16-30 days)                                       0.261214\n",
            "Default                                                 0.178432\n",
            "Does not meet the credit policy. Status:Charged Off     0.163205\n",
            "Name: loan_status, dtype: float64\n"
          ]
        },
        {
          "output_type": "execute_result",
          "data": {
            "text/plain": [
              "<matplotlib.axes._subplots.AxesSubplot at 0x7f79c0e4d610>"
            ]
          },
          "metadata": {},
          "execution_count": 97
        },
        {
          "output_type": "display_data",
          "data": {
            "text/plain": [
              "<Figure size 720x360 with 1 Axes>"
            ],
            "image/png": "[encoded data removed]"
          },
          "metadata": {}
        }
      ]
    },
    {
      "cell_type": "code",
      "source": [
        "# Untuk melihat frekuensi dari variabel home_ownership\n",
        "print(df['home_ownership'].value_counts())"
      ],
      "metadata": {
        "colab": {
          "base_uri": "https://localhost:8080/"
        },
        "id": "9gEi50yQhKgM",
        "outputId": "0100e112-3019-4c35-9f68-bbc1beb0f7d1"
      },
      "execution_count": null,
      "outputs": [
        {
          "output_type": "stream",
          "name": "stdout",
          "text": [
            "MORTGAGE    235875\n",
            "RENT        188473\n",
            "OWN          41704\n",
            "OTHER          182\n",
            "NONE            50\n",
            "ANY              1\n",
            "Name: home_ownership, dtype: int64\n"
          ]
        }
      ]
    },
    {
      "cell_type": "code",
      "source": [
        "# Untuk melihat proporsi dari variabel home_ownership\n",
        "print(df['home_ownership'].value_counts(normalize=True) * 100)\n",
        "df['home_ownership'].value_counts().plot.pie(autopct=\"%1.1f%%\", figsize=(10,5))"
      ],
      "metadata": {
        "colab": {
          "base_uri": "https://localhost:8080/",
          "height": 442
        },
        "id": "44Pclb21j8d4",
        "outputId": "6b64ed6e-8fd0-4119-b1b5-b5e8bcc8fafe"
      },
      "execution_count": null,
      "outputs": [
        {
          "output_type": "stream",
          "name": "stdout",
          "text": [
            "MORTGAGE    50.586015\n",
            "RENT        40.420129\n",
            "OWN          8.943886\n",
            "OTHER        0.039032\n",
            "NONE         0.010723\n",
            "ANY          0.000214\n",
            "Name: home_ownership, dtype: float64\n"
          ]
        },
        {
          "output_type": "execute_result",
          "data": {
            "text/plain": [
              "<matplotlib.axes._subplots.AxesSubplot at 0x7f79c0d69910>"
            ]
          },
          "metadata": {},
          "execution_count": 98
        },
        {
          "output_type": "display_data",
          "data": {
            "text/plain": [
              "<Figure size 720x360 with 1 Axes>"
            ],
            "image/png": "[encoded data removed]"
          },
          "metadata": {}
        }
      ]
    },
    {
      "cell_type": "code",
      "source": [
        "# Untuk melihat frekuensi dari variabel grade\n",
        "print(df['grade'].value_counts())"
      ],
      "metadata": {
        "colab": {
          "base_uri": "https://localhost:8080/"
        },
        "id": "uJdJfPqdhPC1",
        "outputId": "58697a22-5095-46f7-d1f0-a104ef5602aa"
      },
      "execution_count": null,
      "outputs": [
        {
          "output_type": "stream",
          "name": "stdout",
          "text": [
            "B    136929\n",
            "C    125293\n",
            "D     76888\n",
            "A     74867\n",
            "E     35757\n",
            "F     13229\n",
            "G      3322\n",
            "Name: grade, dtype: int64\n"
          ]
        }
      ]
    },
    {
      "cell_type": "code",
      "source": [
        "# Untuk melihat proporsi dari variabel grade\n",
        "print(df['grade'].value_counts(normalize=True) * 100)\n",
        "df['grade'].value_counts().plot.pie(autopct=\"%1.1f%%\", figsize=(10,5))"
      ],
      "metadata": {
        "colab": {
          "base_uri": "https://localhost:8080/",
          "height": 459
        },
        "id": "ILJGcb1DnG2u",
        "outputId": "3771c932-895e-46f1-f5f8-27775959617c"
      },
      "execution_count": null,
      "outputs": [
        {
          "output_type": "stream",
          "name": "stdout",
          "text": [
            "B    29.365946\n",
            "C    26.870476\n",
            "D    16.489486\n",
            "A    16.056060\n",
            "E     7.668486\n",
            "F     2.837106\n",
            "G     0.712440\n",
            "Name: grade, dtype: float64\n"
          ]
        },
        {
          "output_type": "execute_result",
          "data": {
            "text/plain": [
              "<matplotlib.axes._subplots.AxesSubplot at 0x7f79fd2ab850>"
            ]
          },
          "metadata": {},
          "execution_count": 100
        },
        {
          "output_type": "display_data",
          "data": {
            "text/plain": [
              "<Figure size 720x360 with 1 Axes>"
            ],
            "image/png": "[encoded data removed]"
          },
          "metadata": {}
        }
      ]
    },
    {
      "cell_type": "code",
      "source": [
        "# Untuk melihat frekuensi dari variabel term\n",
        "print(df['term'].value_counts())"
      ],
      "metadata": {
        "colab": {
          "base_uri": "https://localhost:8080/"
        },
        "id": "9XPqXiQNhTXF",
        "outputId": "74f1d03b-9cd1-4b6d-a443-288f0b8874a3"
      },
      "execution_count": null,
      "outputs": [
        {
          "output_type": "stream",
          "name": "stdout",
          "text": [
            " 36 months    337953\n",
            " 60 months    128332\n",
            "Name: term, dtype: int64\n"
          ]
        }
      ]
    },
    {
      "cell_type": "code",
      "source": [
        "# Untuk melihat proporsi dari variabel term\n",
        "print(df['term'].value_counts(normalize=True) * 100)\n",
        "df['term'].value_counts().plot.pie(autopct=\"%1.1f%%\", figsize=(10,5))"
      ],
      "metadata": {
        "colab": {
          "base_uri": "https://localhost:8080/",
          "height": 372
        },
        "id": "2mIwbllpnKRA",
        "outputId": "088f7881-e44e-453e-d3f0-1bf1810261a1"
      },
      "execution_count": null,
      "outputs": [
        {
          "output_type": "stream",
          "name": "stdout",
          "text": [
            " 36 months    72.477776\n",
            " 60 months    27.522224\n",
            "Name: term, dtype: float64\n"
          ]
        },
        {
          "output_type": "execute_result",
          "data": {
            "text/plain": [
              "<matplotlib.axes._subplots.AxesSubplot at 0x7f79c09ddb50>"
            ]
          },
          "metadata": {},
          "execution_count": 101
        },
        {
          "output_type": "display_data",
          "data": {
            "text/plain": [
              "<Figure size 720x360 with 1 Axes>"
            ],
            "image/png": "[encoded data removed]"
          },
          "metadata": {}
        }
      ]
    },
    {
      "cell_type": "code",
      "source": [
        "# Untuk melihat frekuensi dari variabel verification_status\n",
        "print(df['verification_status'].value_counts())"
      ],
      "metadata": {
        "colab": {
          "base_uri": "https://localhost:8080/"
        },
        "id": "QQ7EomnLjuK5",
        "outputId": "8802b04c-06ac-4d06-eff5-878da6f9721c"
      },
      "execution_count": null,
      "outputs": [
        {
          "output_type": "stream",
          "name": "stdout",
          "text": [
            "Verified           168055\n",
            "Source Verified    149993\n",
            "Not Verified       148237\n",
            "Name: verification_status, dtype: int64\n"
          ]
        }
      ]
    },
    {
      "cell_type": "code",
      "source": [
        "# Untuk melihat proporsi dari variabel verification_status\n",
        "print(df['verification_status'].value_counts(normalize=True) * 100)\n",
        "df['verification_status'].value_counts().plot.pie(autopct=\"%1.1f%%\", figsize=(10,5))"
      ],
      "metadata": {
        "colab": {
          "base_uri": "https://localhost:8080/",
          "height": 390
        },
        "id": "6Lbs7QC6nMki",
        "outputId": "d2a59b5e-5242-4491-8eef-cded08f21ef3"
      },
      "execution_count": null,
      "outputs": [
        {
          "output_type": "stream",
          "name": "stdout",
          "text": [
            "Verified           36.041262\n",
            "Source Verified    32.167666\n",
            "Not Verified       31.791072\n",
            "Name: verification_status, dtype: float64\n"
          ]
        },
        {
          "output_type": "execute_result",
          "data": {
            "text/plain": [
              "<matplotlib.axes._subplots.AxesSubplot at 0x7f79c08ca0d0>"
            ]
          },
          "metadata": {},
          "execution_count": 102
        },
        {
          "output_type": "display_data",
          "data": {
            "text/plain": [
              "<Figure size 720x360 with 1 Axes>"
            ],
            "image/png": "[encoded data removed]"
          },
          "metadata": {}
        }
      ]
    },
    {
      "cell_type": "code",
      "source": [
        "print(pd.crosstab(df['home_ownership'], df['loan_status']))\n",
        "# Nilai variabel home_ownership dan proporsi loan_status secara plot bar\n",
        "pd.crosstab(df['home_ownership'], df['loan_status']).plot(kind='barh', stacked=True, figsize=(20,10))"
      ],
      "metadata": {
        "colab": {
          "base_uri": "https://localhost:8080/",
          "height": 1000
        },
        "id": "i1X0AcMJZRYx",
        "outputId": "6f6fa9c8-d4c8-46af-e65a-3d178be9c109"
      },
      "execution_count": null,
      "outputs": [
        {
          "output_type": "stream",
          "name": "stdout",
          "text": [
            "loan_status     Charged Off  Current  Default  \\\n",
            "home_ownership                                  \n",
            "ANY                       0        0        0   \n",
            "MORTGAGE              18799   117038      351   \n",
            "NONE                      7        2        0   \n",
            "OTHER                    27        3        0   \n",
            "OWN                    3736    21272       69   \n",
            "RENT                  19906    85911      412   \n",
            "\n",
            "loan_status     Does not meet the credit policy. Status:Charged Off  \\\n",
            "home_ownership                                                        \n",
            "ANY                                                             0     \n",
            "MORTGAGE                                                      348     \n",
            "NONE                                                            1     \n",
            "OTHER                                                          11     \n",
            "OWN                                                            49     \n",
            "RENT                                                          352     \n",
            "\n",
            "loan_status     Does not meet the credit policy. Status:Fully Paid  \\\n",
            "home_ownership                                                       \n",
            "ANY                                                             0    \n",
            "MORTGAGE                                                      908    \n",
            "NONE                                                            4    \n",
            "OTHER                                                          27    \n",
            "OWN                                                           138    \n",
            "RENT                                                          911    \n",
            "\n",
            "loan_status     Fully Paid  In Grace Period  Late (16-30 days)  \\\n",
            "home_ownership                                                   \n",
            "ANY                      1                0                  0   \n",
            "MORTGAGE             93221             1461                607   \n",
            "NONE                    36                0                  0   \n",
            "OTHER                  114                0                  0   \n",
            "OWN                  15342              309                128   \n",
            "RENT                 76025             1376                483   \n",
            "\n",
            "loan_status     Late (31-120 days)  \n",
            "home_ownership                      \n",
            "ANY                              0  \n",
            "MORTGAGE                      3142  \n",
            "NONE                             0  \n",
            "OTHER                            0  \n",
            "OWN                            661  \n",
            "RENT                          3097  \n"
          ]
        },
        {
          "output_type": "execute_result",
          "data": {
            "text/plain": [
              "<matplotlib.axes._subplots.AxesSubplot at 0x7f79fe15a090>"
            ]
          },
          "metadata": {},
          "execution_count": 77
        },
        {
          "output_type": "display_data",
          "data": {
            "text/plain": [
              "<Figure size 1440x720 with 1 Axes>"
            ],
            "image/png": "[encoded data removed]"
          },
          "metadata": {
            "needs_background": "light"
          }
        }
      ]
    },
    {
      "cell_type": "code",
      "source": [
        "print(pd.crosstab(df['grade'], df['loan_status']))\n",
        "pd.crosstab(df['grade'], df['loan_status']).plot(kind='barh', stacked=True, figsize=(20,10))"
      ],
      "metadata": {
        "colab": {
          "base_uri": "https://localhost:8080/",
          "height": 1000
        },
        "id": "6pA-kIi3W1h0",
        "outputId": "f50c7fb0-76d5-4ae0-d3c4-8115b81efd1b"
      },
      "execution_count": null,
      "outputs": [
        {
          "output_type": "stream",
          "name": "stdout",
          "text": [
            "loan_status  Charged Off  Current  Default  \\\n",
            "grade                                        \n",
            "A                   2527    35191       30   \n",
            "B                   9157    64009      149   \n",
            "C                  11921    63351      258   \n",
            "D                   9748    37460      212   \n",
            "E                   5710    17229      130   \n",
            "F                   2685     5697       37   \n",
            "G                    727     1289       16   \n",
            "\n",
            "loan_status  Does not meet the credit policy. Status:Charged Off  \\\n",
            "grade                                                              \n",
            "A                                                            8     \n",
            "B                                                           85     \n",
            "C                                                          148     \n",
            "D                                                          197     \n",
            "E                                                          158     \n",
            "F                                                           93     \n",
            "G                                                           72     \n",
            "\n",
            "loan_status  Does not meet the credit policy. Status:Fully Paid  Fully Paid  \\\n",
            "grade                                                                         \n",
            "A                                                           90        36455   \n",
            "B                                                          269        60962   \n",
            "C                                                          481        45818   \n",
            "D                                                          494        26089   \n",
            "E                                                          378        10569   \n",
            "F                                                          154         3927   \n",
            "G                                                          122          919   \n",
            "\n",
            "loan_status  In Grace Period  Late (16-30 days)  Late (31-120 days)  \n",
            "grade                                                                \n",
            "A                        176                 58                 332  \n",
            "B                        681                249                1368  \n",
            "C                        900                359                2057  \n",
            "D                        713                284                1691  \n",
            "E                        442                175                 966  \n",
            "F                        184                 75                 377  \n",
            "G                         50                 18                 109  \n"
          ]
        },
        {
          "output_type": "execute_result",
          "data": {
            "text/plain": [
              "<matplotlib.axes._subplots.AxesSubplot at 0x7f79fe2f2250>"
            ]
          },
          "metadata": {},
          "execution_count": 76
        },
        {
          "output_type": "display_data",
          "data": {
            "text/plain": [
              "<Figure size 1440x720 with 1 Axes>"
            ],
            "image/png": "[encoded data removed]"
          },
          "metadata": {
            "needs_background": "light"
          }
        }
      ]
    },
    {
      "cell_type": "code",
      "source": [
        "print(pd.crosstab(df['term'], df['loan_status']))\n",
        "pd.crosstab(df['term'], df['loan_status']).plot(kind='barh', stacked=True, figsize=(20,10))"
      ],
      "metadata": {
        "colab": {
          "base_uri": "https://localhost:8080/",
          "height": 939
        },
        "id": "2jOxPANpWs2L",
        "outputId": "6c30c6b1-6f03-4b5c-8c8c-e5dd867f68fe"
      },
      "execution_count": null,
      "outputs": [
        {
          "output_type": "stream",
          "name": "stdout",
          "text": [
            "loan_status  Charged Off  Current  Default  \\\n",
            "term                                         \n",
            " 36 months         27455   149505      490   \n",
            " 60 months         15020    74721      342   \n",
            "\n",
            "loan_status  Does not meet the credit policy. Status:Charged Off  \\\n",
            "term                                                               \n",
            " 36 months                                                 649     \n",
            " 60 months                                                 112     \n",
            "\n",
            "loan_status  Does not meet the credit policy. Status:Fully Paid  Fully Paid  \\\n",
            "term                                                                          \n",
            " 36 months                                                1789       151101   \n",
            " 60 months                                                 199        33638   \n",
            "\n",
            "loan_status  In Grace Period  Late (16-30 days)  Late (31-120 days)  \n",
            "term                                                                 \n",
            " 36 months              1979                769                4216  \n",
            " 60 months              1167                449                2684  \n"
          ]
        },
        {
          "output_type": "execute_result",
          "data": {
            "text/plain": [
              "<matplotlib.axes._subplots.AxesSubplot at 0x7f79fe3c2c10>"
            ]
          },
          "metadata": {},
          "execution_count": 75
        },
        {
          "output_type": "display_data",
          "data": {
            "text/plain": [
              "<Figure size 1440x720 with 1 Axes>"
            ],
            "image/png": "[encoded data removed]"
          },
          "metadata": {
            "needs_background": "light"
          }
        }
      ]
    },
    {
      "cell_type": "markdown",
      "source": [
        "##Mengecek Data Hilang"
      ],
      "metadata": {
        "id": "zMqQfFhzSgHs"
      }
    },
    {
      "cell_type": "code",
      "source": [
        "# menampilkan missing value\n",
        "def chek_missing(df):\n",
        "    sum_nan = df.isna().sum().reset_index()\n",
        "    sum_nan.columns = ['Kolom', 'Jumlah_NaN']\n",
        "    sum_nan[\"Persentase\"] = sum_nan.Jumlah_NaN/len(df)\n",
        "    return sum_nan.sort_values(\"Persentase\", ascending =  False)\n",
        "missing = chek_missing(df)"
      ],
      "metadata": {
        "id": "YazKNevc1-7C"
      },
      "execution_count": null,
      "outputs": []
    },
    {
      "cell_type": "code",
      "source": [
        "plt.figure(figsize=(12,20))\n",
        "sns.barplot(y = missing['Kolom'], x = missing['Persentase']).set_title(\"Missing Value Comparison\");"
      ],
      "metadata": {
        "colab": {
          "base_uri": "https://localhost:8080/",
          "height": 1000
        },
        "id": "l3hmOOqn2Cvz",
        "outputId": "89dc41e2-ab37-4a0f-a996-55305b7b987e"
      },
      "execution_count": null,
      "outputs": [
        {
          "output_type": "display_data",
          "data": {
            "text/plain": [
              "<Figure size 864x1440 with 1 Axes>"
            ],
            "image/png": "[encoded data removed]"
          },
          "metadata": {
            "needs_background": "light"
          }
        }
      ]
    },
    {
      "cell_type": "code",
      "source": [
        "# Menampilkan kolom yang memiliki Missing Value lebih dari 70%\n",
        "\n",
        "mis = missing[missing.Persentase < 0.7]\n",
        "mis "
      ],
      "metadata": {
        "colab": {
          "base_uri": "https://localhost:8080/",
          "height": 1000
        },
        "id": "4Yg3us8827N1",
        "outputId": "dbf5ee89-8f97-4a17-8bac-348b566c6798"
      },
      "execution_count": null,
      "outputs": [
        {
          "output_type": "execute_result",
          "data": {
            "text/plain": [
              "                         Kolom  Jumlah_NaN  Persentase\n",
              "28      mths_since_last_delinq      250351    0.536906\n",
              "47                next_pymnt_d      227214    0.487286\n",
              "57                tot_coll_amt       70276    0.150715\n",
              "58                 tot_cur_bal       70276    0.150715\n",
              "70            total_rev_hi_lim       70276    0.150715\n",
              "10                   emp_title       27588    0.059166\n",
              "11                  emp_length       21008    0.045054\n",
              "45                last_pymnt_d         376    0.000806\n",
              "33                  revol_util         340    0.000729\n",
              "49  collections_12_mths_ex_med         145    0.000311\n",
              "48          last_credit_pull_d          42    0.000090\n",
              "30                    open_acc          29    0.000062\n",
              "31                     pub_rec          29    0.000062\n",
              "34                   total_acc          29    0.000062\n",
              "27              inq_last_6mths          29    0.000062\n",
              "26            earliest_cr_line          29    0.000062\n",
              "25                 delinq_2yrs          29    0.000062\n",
              "56              acc_now_delinq          29    0.000062\n",
              "21                       title          20    0.000043\n",
              "13                  annual_inc           4    0.000009\n",
              "44     collection_recovery_fee           0    0.000000\n",
              "52            application_type           0    0.000000\n",
              "51                 policy_code           0    0.000000\n",
              "46             last_pymnt_amnt           0    0.000000\n",
              "0                           id           0    0.000000\n",
              "43                  recoveries           0    0.000000\n",
              "17                  pymnt_plan           0    0.000000\n",
              "2                    loan_amnt           0    0.000000\n",
              "3                  funded_amnt           0    0.000000\n",
              "4              funded_amnt_inv           0    0.000000\n",
              "5                         term           0    0.000000\n",
              "6                     int_rate           0    0.000000\n",
              "7                  installment           0    0.000000\n",
              "8                        grade           0    0.000000\n",
              "9                    sub_grade           0    0.000000\n",
              "12              home_ownership           0    0.000000\n",
              "14         verification_status           0    0.000000\n",
              "15                     issue_d           0    0.000000\n",
              "16                 loan_status           0    0.000000\n",
              "18                         url           0    0.000000\n",
              "42          total_rec_late_fee           0    0.000000\n",
              "20                     purpose           0    0.000000\n",
              "22                    zip_code           0    0.000000\n",
              "23                  addr_state           0    0.000000\n",
              "24                         dti           0    0.000000\n",
              "32                   revol_bal           0    0.000000\n",
              "35         initial_list_status           0    0.000000\n",
              "36                   out_prncp           0    0.000000\n",
              "1                    member_id           0    0.000000\n",
              "38                 total_pymnt           0    0.000000\n",
              "39             total_pymnt_inv           0    0.000000\n",
              "40             total_rec_prncp           0    0.000000\n",
              "41               total_rec_int           0    0.000000\n",
              "37               out_prncp_inv           0    0.000000"
            ],
            "text/html": [
              "\n",
              "  <div id=\"df-972f059c-8209-4fca-a223-f4553dac8956\">\n",
              "    <div class=\"colab-df-container\">\n",
              "      <div>\n",
              "<style scoped>\n",
              "    .dataframe tbody tr th:only-of-type {\n",
              "        vertical-align: middle;\n",
              "    }\n",
              "\n",
              "    .dataframe tbody tr th {\n",
              "        vertical-align: top;\n",
              "    }\n",
              "\n",
              "    .dataframe thead th {\n",
              "        text-align: right;\n",
              "    }\n",
              "</style>\n",
              "<table border=\"1\" class=\"dataframe\">\n",
              "  <thead>\n",
              "    <tr style=\"text-align: right;\">\n",
              "      <th></th>\n",
              "      <th>Kolom</th>\n",
              "      <th>Jumlah_NaN</th>\n",
              "      <th>Persentase</th>\n",
              "    </tr>\n",
              "  </thead>\n",
              "  <tbody>\n",
              "    <tr>\n",
              "      <th>28</th>\n",
              "      <td>mths_since_last_delinq</td>\n",
              "      <td>250351</td>\n",
              "      <td>0.536906</td>\n",
              "    </tr>\n",
              "    <tr>\n",
              "      <th>47</th>\n",
              "      <td>next_pymnt_d</td>\n",
              "      <td>227214</td>\n",
              "      <td>0.487286</td>\n",
              "    </tr>\n",
              "    <tr>\n",
              "      <th>57</th>\n",
              "      <td>tot_coll_amt</td>\n",
              "      <td>70276</td>\n",
              "      <td>0.150715</td>\n",
              "    </tr>\n",
              "    <tr>\n",
              "      <th>58</th>\n",
              "      <td>tot_cur_bal</td>\n",
              "      <td>70276</td>\n",
              "      <td>0.150715</td>\n",
              "    </tr>\n",
              "    <tr>\n",
              "      <th>70</th>\n",
              "      <td>total_rev_hi_lim</td>\n",
              "      <td>70276</td>\n",
              "      <td>0.150715</td>\n",
              "    </tr>\n",
              "    <tr>\n",
              "      <th>10</th>\n",
              "      <td>emp_title</td>\n",
              "      <td>27588</td>\n",
              "      <td>0.059166</td>\n",
              "    </tr>\n",
              "    <tr>\n",
              "      <th>11</th>\n",
              "      <td>emp_length</td>\n",
              "      <td>21008</td>\n",
              "      <td>0.045054</td>\n",
              "    </tr>\n",
              "    <tr>\n",
              "      <th>45</th>\n",
              "      <td>last_pymnt_d</td>\n",
              "      <td>376</td>\n",
              "      <td>0.000806</td>\n",
              "    </tr>\n",
              "    <tr>\n",
              "      <th>33</th>\n",
              "      <td>revol_util</td>\n",
              "      <td>340</td>\n",
              "      <td>0.000729</td>\n",
              "    </tr>\n",
              "    <tr>\n",
              "      <th>49</th>\n",
              "      <td>collections_12_mths_ex_med</td>\n",
              "      <td>145</td>\n",
              "      <td>0.000311</td>\n",
              "    </tr>\n",
              "    <tr>\n",
              "      <th>48</th>\n",
              "      <td>last_credit_pull_d</td>\n",
              "      <td>42</td>\n",
              "      <td>0.000090</td>\n",
              "    </tr>\n",
              "    <tr>\n",
              "      <th>30</th>\n",
              "      <td>open_acc</td>\n",
              "      <td>29</td>\n",
              "      <td>0.000062</td>\n",
              "    </tr>\n",
              "    <tr>\n",
              "      <th>31</th>\n",
              "      <td>pub_rec</td>\n",
              "      <td>29</td>\n",
              "      <td>0.000062</td>\n",
              "    </tr>\n",
              "    <tr>\n",
              "      <th>34</th>\n",
              "      <td>total_acc</td>\n",
              "      <td>29</td>\n",
              "      <td>0.000062</td>\n",
              "    </tr>\n",
              "    <tr>\n",
              "      <th>27</th>\n",
              "      <td>inq_last_6mths</td>\n",
              "      <td>29</td>\n",
              "      <td>0.000062</td>\n",
              "    </tr>\n",
              "    <tr>\n",
              "      <th>26</th>\n",
              "      <td>earliest_cr_line</td>\n",
              "      <td>29</td>\n",
              "      <td>0.000062</td>\n",
              "    </tr>\n",
              "    <tr>\n",
              "      <th>25</th>\n",
              "      <td>delinq_2yrs</td>\n",
              "      <td>29</td>\n",
              "      <td>0.000062</td>\n",
              "    </tr>\n",
              "    <tr>\n",
              "      <th>56</th>\n",
              "      <td>acc_now_delinq</td>\n",
              "      <td>29</td>\n",
              "      <td>0.000062</td>\n",
              "    </tr>\n",
              "    <tr>\n",
              "      <th>21</th>\n",
              "      <td>title</td>\n",
              "      <td>20</td>\n",
              "      <td>0.000043</td>\n",
              "    </tr>\n",
              "    <tr>\n",
              "      <th>13</th>\n",
              "      <td>annual_inc</td>\n",
              "      <td>4</td>\n",
              "      <td>0.000009</td>\n",
              "    </tr>\n",
              "    <tr>\n",
              "      <th>44</th>\n",
              "      <td>collection_recovery_fee</td>\n",
              "      <td>0</td>\n",
              "      <td>0.000000</td>\n",
              "    </tr>\n",
              "    <tr>\n",
              "      <th>52</th>\n",
              "      <td>application_type</td>\n",
              "      <td>0</td>\n",
              "      <td>0.000000</td>\n",
              "    </tr>\n",
              "    <tr>\n",
              "      <th>51</th>\n",
              "      <td>policy_code</td>\n",
              "      <td>0</td>\n",
              "      <td>0.000000</td>\n",
              "    </tr>\n",
              "    <tr>\n",
              "      <th>46</th>\n",
              "      <td>last_pymnt_amnt</td>\n",
              "      <td>0</td>\n",
              "      <td>0.000000</td>\n",
              "    </tr>\n",
              "    <tr>\n",
              "      <th>0</th>\n",
              "      <td>id</td>\n",
              "      <td>0</td>\n",
              "      <td>0.000000</td>\n",
              "    </tr>\n",
              "    <tr>\n",
              "      <th>43</th>\n",
              "      <td>recoveries</td>\n",
              "      <td>0</td>\n",
              "      <td>0.000000</td>\n",
              "    </tr>\n",
              "    <tr>\n",
              "      <th>17</th>\n",
              "      <td>pymnt_plan</td>\n",
              "      <td>0</td>\n",
              "      <td>0.000000</td>\n",
              "    </tr>\n",
              "    <tr>\n",
              "      <th>2</th>\n",
              "      <td>loan_amnt</td>\n",
              "      <td>0</td>\n",
              "      <td>0.000000</td>\n",
              "    </tr>\n",
              "    <tr>\n",
              "      <th>3</th>\n",
              "      <td>funded_amnt</td>\n",
              "      <td>0</td>\n",
              "      <td>0.000000</td>\n",
              "    </tr>\n",
              "    <tr>\n",
              "      <th>4</th>\n",
              "      <td>funded_amnt_inv</td>\n",
              "      <td>0</td>\n",
              "      <td>0.000000</td>\n",
              "    </tr>\n",
              "    <tr>\n",
              "      <th>5</th>\n",
              "      <td>term</td>\n",
              "      <td>0</td>\n",
              "      <td>0.000000</td>\n",
              "    </tr>\n",
              "    <tr>\n",
              "      <th>6</th>\n",
              "      <td>int_rate</td>\n",
              "      <td>0</td>\n",
              "      <td>0.000000</td>\n",
              "    </tr>\n",
              "    <tr>\n",
              "      <th>7</th>\n",
              "      <td>installment</td>\n",
              "      <td>0</td>\n",
              "      <td>0.000000</td>\n",
              "    </tr>\n",
              "    <tr>\n",
              "      <th>8</th>\n",
              "      <td>grade</td>\n",
              "      <td>0</td>\n",
              "      <td>0.000000</td>\n",
              "    </tr>\n",
              "    <tr>\n",
              "      <th>9</th>\n",
              "      <td>sub_grade</td>\n",
              "      <td>0</td>\n",
              "      <td>0.000000</td>\n",
              "    </tr>\n",
              "    <tr>\n",
              "      <th>12</th>\n",
              "      <td>home_ownership</td>\n",
              "      <td>0</td>\n",
              "      <td>0.000000</td>\n",
              "    </tr>\n",
              "    <tr>\n",
              "      <th>14</th>\n",
              "      <td>verification_status</td>\n",
              "      <td>0</td>\n",
              "      <td>0.000000</td>\n",
              "    </tr>\n",
              "    <tr>\n",
              "      <th>15</th>\n",
              "      <td>issue_d</td>\n",
              "      <td>0</td>\n",
              "      <td>0.000000</td>\n",
              "    </tr>\n",
              "    <tr>\n",
              "      <th>16</th>\n",
              "      <td>loan_status</td>\n",
              "      <td>0</td>\n",
              "      <td>0.000000</td>\n",
              "    </tr>\n",
              "    <tr>\n",
              "      <th>18</th>\n",
              "      <td>url</td>\n",
              "      <td>0</td>\n",
              "      <td>0.000000</td>\n",
              "    </tr>\n",
              "    <tr>\n",
              "      <th>42</th>\n",
              "      <td>total_rec_late_fee</td>\n",
              "      <td>0</td>\n",
              "      <td>0.000000</td>\n",
              "    </tr>\n",
              "    <tr>\n",
              "      <th>20</th>\n",
              "      <td>purpose</td>\n",
              "      <td>0</td>\n",
              "      <td>0.000000</td>\n",
              "    </tr>\n",
              "    <tr>\n",
              "      <th>22</th>\n",
              "      <td>zip_code</td>\n",
              "      <td>0</td>\n",
              "      <td>0.000000</td>\n",
              "    </tr>\n",
              "    <tr>\n",
              "      <th>23</th>\n",
              "      <td>addr_state</td>\n",
              "      <td>0</td>\n",
              "      <td>0.000000</td>\n",
              "    </tr>\n",
              "    <tr>\n",
              "      <th>24</th>\n",
              "      <td>dti</td>\n",
              "      <td>0</td>\n",
              "      <td>0.000000</td>\n",
              "    </tr>\n",
              "    <tr>\n",
              "      <th>32</th>\n",
              "      <td>revol_bal</td>\n",
              "      <td>0</td>\n",
              "      <td>0.000000</td>\n",
              "    </tr>\n",
              "    <tr>\n",
              "      <th>35</th>\n",
              "      <td>initial_list_status</td>\n",
              "      <td>0</td>\n",
              "      <td>0.000000</td>\n",
              "    </tr>\n",
              "    <tr>\n",
              "      <th>36</th>\n",
              "      <td>out_prncp</td>\n",
              "      <td>0</td>\n",
              "      <td>0.000000</td>\n",
              "    </tr>\n",
              "    <tr>\n",
              "      <th>1</th>\n",
              "      <td>member_id</td>\n",
              "      <td>0</td>\n",
              "      <td>0.000000</td>\n",
              "    </tr>\n",
              "    <tr>\n",
              "      <th>38</th>\n",
              "      <td>total_pymnt</td>\n",
              "      <td>0</td>\n",
              "      <td>0.000000</td>\n",
              "    </tr>\n",
              "    <tr>\n",
              "      <th>39</th>\n",
              "      <td>total_pymnt_inv</td>\n",
              "      <td>0</td>\n",
              "      <td>0.000000</td>\n",
              "    </tr>\n",
              "    <tr>\n",
              "      <th>40</th>\n",
              "      <td>total_rec_prncp</td>\n",
              "      <td>0</td>\n",
              "      <td>0.000000</td>\n",
              "    </tr>\n",
              "    <tr>\n",
              "      <th>41</th>\n",
              "      <td>total_rec_int</td>\n",
              "      <td>0</td>\n",
              "      <td>0.000000</td>\n",
              "    </tr>\n",
              "    <tr>\n",
              "      <th>37</th>\n",
              "      <td>out_prncp_inv</td>\n",
              "      <td>0</td>\n",
              "      <td>0.000000</td>\n",
              "    </tr>\n",
              "  </tbody>\n",
              "</table>\n",
              "</div>\n",
              "      <button class=\"colab-df-convert\" onclick=\"convertToInteractive('df-972f059c-8209-4fca-a223-f4553dac8956')\"\n",
              "              title=\"Convert this dataframe to an interactive table.\"\n",
              "              style=\"display:none;\">\n",
              "        \n",
              "  <svg xmlns=\"http://www.w3.org/2000/svg\" height=\"24px\"viewBox=\"0 0 24 24\"\n",
              "       width=\"24px\">\n",
              "    <path d=\"M0 0h24v24H0V0z\" fill=\"none\"/>\n",
              "    <path d=\"M18.56 5.44l.94 2.06.94-2.06 2.06-.94-2.06-.94-.94-2.06-.94 2.06-2.06.94zm-11 1L8.5 8.5l.94-2.06 2.06-.94-2.06-.94L8.5 2.5l-.94 2.06-2.06.94zm10 10l.94 2.06.94-2.06 2.06-.94-2.06-.94-.94-2.06-.94 2.06-2.06.94z\"/><path d=\"M17.41 7.96l-1.37-1.37c-.4-.4-.92-.59-1.43-.59-.52 0-1.04.2-1.43.59L10.3 9.45l-7.72 7.72c-.78.78-.78 2.05 0 2.83L4 21.41c.39.39.9.59 1.41.59.51 0 1.02-.2 1.41-.59l7.78-7.78 2.81-2.81c.8-.78.8-2.07 0-2.86zM5.41 20L4 18.59l7.72-7.72 1.47 1.35L5.41 20z\"/>\n",
              "  </svg>\n",
              "      </button>\n",
              "      \n",
              "  <style>\n",
              "    .colab-df-container {\n",
              "      display:flex;\n",
              "      flex-wrap:wrap;\n",
              "      gap: 12px;\n",
              "    }\n",
              "\n",
              "    .colab-df-convert {\n",
              "      background-color: #E8F0FE;\n",
              "      border: none;\n",
              "      border-radius: 50%;\n",
              "      cursor: pointer;\n",
              "      display: none;\n",
              "      fill: #1967D2;\n",
              "      height: 32px;\n",
              "      padding: 0 0 0 0;\n",
              "      width: 32px;\n",
              "    }\n",
              "\n",
              "    .colab-df-convert:hover {\n",
              "      background-color: #E2EBFA;\n",
              "      box-shadow: 0px 1px 2px rgba(60, 64, 67, 0.3), 0px 1px 3px 1px rgba(60, 64, 67, 0.15);\n",
              "      fill: #174EA6;\n",
              "    }\n",
              "\n",
              "    [theme=dark] .colab-df-convert {\n",
              "      background-color: #3B4455;\n",
              "      fill: #D2E3FC;\n",
              "    }\n",
              "\n",
              "    [theme=dark] .colab-df-convert:hover {\n",
              "      background-color: #434B5C;\n",
              "      box-shadow: 0px 1px 3px 1px rgba(0, 0, 0, 0.15);\n",
              "      filter: drop-shadow(0px 1px 2px rgba(0, 0, 0, 0.3));\n",
              "      fill: #FFFFFF;\n",
              "    }\n",
              "  </style>\n",
              "\n",
              "      <script>\n",
              "        const buttonEl =\n",
              "          document.querySelector('#df-972f059c-8209-4fca-a223-f4553dac8956 button.colab-df-convert');\n",
              "        buttonEl.style.display =\n",
              "          google.colab.kernel.accessAllowed ? 'block' : 'none';\n",
              "\n",
              "        async function convertToInteractive(key) {\n",
              "          const element = document.querySelector('#df-972f059c-8209-4fca-a223-f4553dac8956');\n",
              "          const dataTable =\n",
              "            await google.colab.kernel.invokeFunction('convertToInteractive',\n",
              "                                                     [key], {});\n",
              "          if (!dataTable) return;\n",
              "\n",
              "          const docLinkHtml = 'Like what you see? Visit the ' +\n",
              "            '<a target=\"_blank\" href=https://colab.research.google.com/notebooks/data_table.ipynb>data table notebook</a>'\n",
              "            + ' to learn more about interactive tables.';\n",
              "          element.innerHTML = '';\n",
              "          dataTable['output_type'] = 'display_data';\n",
              "          await google.colab.output.renderOutput(dataTable, element);\n",
              "          const docLink = document.createElement('div');\n",
              "          docLink.innerHTML = docLinkHtml;\n",
              "          element.appendChild(docLink);\n",
              "        }\n",
              "      </script>\n",
              "    </div>\n",
              "  </div>\n",
              "  "
            ]
          },
          "metadata": {},
          "execution_count": 15
        }
      ]
    },
    {
      "cell_type": "code",
      "source": [
        "to_fix_col = mis[mis.Persentase > 0].Kolom.tolist()"
      ],
      "metadata": {
        "id": "NVGvmuMI5Cal"
      },
      "execution_count": null,
      "outputs": []
    },
    {
      "cell_type": "code",
      "source": [
        "# drop kolom yang memiliki missing value yang lebih dari 70% \n",
        "df2 = df.drop(missing[missing.Persentase > 0.7].Kolom.tolist(),1)"
      ],
      "metadata": {
        "colab": {
          "base_uri": "https://localhost:8080/"
        },
        "id": "MZQz1_v549Iq",
        "outputId": "53a434f6-c9e9-4071-9968-706d834417cc"
      },
      "execution_count": null,
      "outputs": [
        {
          "output_type": "stream",
          "name": "stderr",
          "text": [
            "/usr/local/lib/python3.7/dist-packages/ipykernel_launcher.py:2: FutureWarning: In a future version of pandas all arguments of DataFrame.drop except for the argument 'labels' will be keyword-only\n",
            "  \n"
          ]
        }
      ]
    },
    {
      "cell_type": "code",
      "source": [
        "df2.info()"
      ],
      "metadata": {
        "colab": {
          "base_uri": "https://localhost:8080/"
        },
        "id": "h14DmrBO64LT",
        "outputId": "29b196ca-02f7-4814-9eed-f8336327f838"
      },
      "execution_count": null,
      "outputs": [
        {
          "output_type": "stream",
          "name": "stdout",
          "text": [
            "<class 'pandas.core.frame.DataFrame'>\n",
            "RangeIndex: 466285 entries, 0 to 466284\n",
            "Data columns (total 54 columns):\n",
            " #   Column                      Non-Null Count   Dtype  \n",
            "---  ------                      --------------   -----  \n",
            " 0   id                          466285 non-null  int64  \n",
            " 1   member_id                   466285 non-null  int64  \n",
            " 2   loan_amnt                   466285 non-null  int64  \n",
            " 3   funded_amnt                 466285 non-null  int64  \n",
            " 4   funded_amnt_inv             466285 non-null  float64\n",
            " 5   term                        466285 non-null  object \n",
            " 6   int_rate                    466285 non-null  float64\n",
            " 7   installment                 466285 non-null  float64\n",
            " 8   grade                       466285 non-null  object \n",
            " 9   sub_grade                   466285 non-null  object \n",
            " 10  emp_title                   438697 non-null  object \n",
            " 11  emp_length                  445277 non-null  object \n",
            " 12  home_ownership              466285 non-null  object \n",
            " 13  annual_inc                  466281 non-null  float64\n",
            " 14  verification_status         466285 non-null  object \n",
            " 15  issue_d                     466285 non-null  object \n",
            " 16  loan_status                 466285 non-null  object \n",
            " 17  pymnt_plan                  466285 non-null  object \n",
            " 18  url                         466285 non-null  object \n",
            " 19  purpose                     466285 non-null  object \n",
            " 20  title                       466265 non-null  object \n",
            " 21  zip_code                    466285 non-null  object \n",
            " 22  addr_state                  466285 non-null  object \n",
            " 23  dti                         466285 non-null  float64\n",
            " 24  delinq_2yrs                 466256 non-null  float64\n",
            " 25  earliest_cr_line            466256 non-null  object \n",
            " 26  inq_last_6mths              466256 non-null  float64\n",
            " 27  mths_since_last_delinq      215934 non-null  float64\n",
            " 28  open_acc                    466256 non-null  float64\n",
            " 29  pub_rec                     466256 non-null  float64\n",
            " 30  revol_bal                   466285 non-null  int64  \n",
            " 31  revol_util                  465945 non-null  float64\n",
            " 32  total_acc                   466256 non-null  float64\n",
            " 33  initial_list_status         466285 non-null  object \n",
            " 34  out_prncp                   466285 non-null  float64\n",
            " 35  out_prncp_inv               466285 non-null  float64\n",
            " 36  total_pymnt                 466285 non-null  float64\n",
            " 37  total_pymnt_inv             466285 non-null  float64\n",
            " 38  total_rec_prncp             466285 non-null  float64\n",
            " 39  total_rec_int               466285 non-null  float64\n",
            " 40  total_rec_late_fee          466285 non-null  float64\n",
            " 41  recoveries                  466285 non-null  float64\n",
            " 42  collection_recovery_fee     466285 non-null  float64\n",
            " 43  last_pymnt_d                465909 non-null  object \n",
            " 44  last_pymnt_amnt             466285 non-null  float64\n",
            " 45  next_pymnt_d                239071 non-null  object \n",
            " 46  last_credit_pull_d          466243 non-null  object \n",
            " 47  collections_12_mths_ex_med  466140 non-null  float64\n",
            " 48  policy_code                 466285 non-null  int64  \n",
            " 49  application_type            466285 non-null  object \n",
            " 50  acc_now_delinq              466256 non-null  float64\n",
            " 51  tot_coll_amt                396009 non-null  float64\n",
            " 52  tot_cur_bal                 396009 non-null  float64\n",
            " 53  total_rev_hi_lim            396009 non-null  float64\n",
            "dtypes: float64(27), int64(6), object(21)\n",
            "memory usage: 192.1+ MB\n"
          ]
        }
      ]
    },
    {
      "cell_type": "markdown",
      "source": [
        "## Merubah object menjadi int"
      ],
      "metadata": {
        "id": "q5fV8Gd6Nb7p"
      }
    },
    {
      "cell_type": "code",
      "source": [
        "label_encoder = preprocessing.LabelEncoder()\n",
        "df2['term_fix']=label_encoder.fit_transform(df2['term'])\n",
        "print(df2[['term', 'term_fix']].head())\n",
        "df2.drop([\"term\"], axis=1, inplace=True)"
      ],
      "metadata": {
        "colab": {
          "base_uri": "https://localhost:8080/"
        },
        "id": "S9Lq2zhY0DQv",
        "outputId": "dc67db71-a074-489a-d87d-81877ec9aa2d"
      },
      "execution_count": null,
      "outputs": [
        {
          "output_type": "stream",
          "name": "stdout",
          "text": [
            "         term  term_fix\n",
            "0   36 months         0\n",
            "1   60 months         1\n",
            "2   36 months         0\n",
            "3   36 months         0\n",
            "4   60 months         1\n"
          ]
        }
      ]
    },
    {
      "cell_type": "code",
      "source": [
        "label_encoder = preprocessing.LabelEncoder()\n",
        "df2['grade_fix']=label_encoder.fit_transform(df2['grade'])\n",
        "print(df2[['grade', 'grade_fix']].head())\n",
        "df2.drop([\"grade\"], axis=1, inplace=True)"
      ],
      "metadata": {
        "colab": {
          "base_uri": "https://localhost:8080/"
        },
        "id": "iL6QKHS003Nk",
        "outputId": "d8c85311-f113-4fd9-9698-97ca583c6610"
      },
      "execution_count": null,
      "outputs": [
        {
          "output_type": "stream",
          "name": "stdout",
          "text": [
            "  grade  grade_fix\n",
            "0     B          1\n",
            "1     C          2\n",
            "2     C          2\n",
            "3     C          2\n",
            "4     B          1\n"
          ]
        }
      ]
    },
    {
      "cell_type": "code",
      "source": [
        "label_encoder = preprocessing.LabelEncoder()\n",
        "df2['sub_grade_fix']=label_encoder.fit_transform(df2['sub_grade'])\n",
        "print(df2[['sub_grade', 'sub_grade_fix']].head())\n",
        "df2.drop([\"sub_grade\"], axis=1, inplace=True)"
      ],
      "metadata": {
        "colab": {
          "base_uri": "https://localhost:8080/"
        },
        "id": "YsVgX-N_1Fz0",
        "outputId": "984630f3-598f-48a1-c4a4-d5484e1b4e50"
      },
      "execution_count": null,
      "outputs": [
        {
          "output_type": "stream",
          "name": "stdout",
          "text": [
            "  sub_grade  sub_grade_fix\n",
            "0        B2              6\n",
            "1        C4             13\n",
            "2        C5             14\n",
            "3        C1             10\n",
            "4        B5              9\n"
          ]
        }
      ]
    },
    {
      "cell_type": "code",
      "source": [
        "label_encoder = preprocessing.LabelEncoder()\n",
        "df2['emp_title_fix']=label_encoder.fit_transform(df2['emp_title'])\n",
        "print(df2[['emp_title', 'emp_title_fix']].head())\n",
        "df2.drop([\"emp_title\"], axis=1, inplace=True)"
      ],
      "metadata": {
        "colab": {
          "base_uri": "https://localhost:8080/"
        },
        "id": "nd_fFYUg3-Yw",
        "outputId": "1576a6da-7019-487d-bd07-a2c53000f315"
      },
      "execution_count": null,
      "outputs": [
        {
          "output_type": "stream",
          "name": "stdout",
          "text": [
            "                  emp_title  emp_title_fix\n",
            "0                       NaN         205475\n",
            "1                     Ryder         131796\n",
            "2                       NaN         205475\n",
            "3       AIR RESOURCES BOARD           2257\n",
            "4  University Medical Group         165724\n"
          ]
        }
      ]
    },
    {
      "cell_type": "code",
      "source": [
        "label_encoder = preprocessing.LabelEncoder()\n",
        "df2['emp_length_fix']=label_encoder.fit_transform(df2['emp_length'])\n",
        "print(df2[['emp_length', 'emp_length_fix']].head())\n",
        "df2.drop([\"emp_length\"], axis=1, inplace=True)"
      ],
      "metadata": {
        "colab": {
          "base_uri": "https://localhost:8080/"
        },
        "id": "Gt8bCcrY4Ahc",
        "outputId": "9b33a8c7-619c-4a07-f072-a7a4e7f0f069"
      },
      "execution_count": null,
      "outputs": [
        {
          "output_type": "stream",
          "name": "stdout",
          "text": [
            "  emp_length  emp_length_fix\n",
            "0  10+ years               1\n",
            "1   < 1 year              10\n",
            "2  10+ years               1\n",
            "3  10+ years               1\n",
            "4     1 year               0\n"
          ]
        }
      ]
    },
    {
      "cell_type": "code",
      "source": [
        "label_encoder = preprocessing.LabelEncoder()\n",
        "df2['home_ownership_fix']=label_encoder.fit_transform(df2['home_ownership'])\n",
        "print(df2[['home_ownership', 'home_ownership_fix']].head())\n",
        "df2.drop([\"home_ownership\"], axis=1, inplace=True)"
      ],
      "metadata": {
        "colab": {
          "base_uri": "https://localhost:8080/"
        },
        "id": "oGW22_zs4BjV",
        "outputId": "b5f30bac-6739-4302-cb8a-29bf4ac8bd8b"
      },
      "execution_count": null,
      "outputs": [
        {
          "output_type": "stream",
          "name": "stdout",
          "text": [
            "  home_ownership  home_ownership_fix\n",
            "0           RENT                   5\n",
            "1           RENT                   5\n",
            "2           RENT                   5\n",
            "3           RENT                   5\n",
            "4           RENT                   5\n"
          ]
        }
      ]
    },
    {
      "cell_type": "code",
      "source": [
        "label_encoder = preprocessing.LabelEncoder()\n",
        "df2['verification_status_fix']=label_encoder.fit_transform(df2['verification_status'])\n",
        "print(df2[['verification_status', 'verification_status_fix']].head())\n",
        "df2.drop([\"verification_status\"], axis=1, inplace=True)"
      ],
      "metadata": {
        "colab": {
          "base_uri": "https://localhost:8080/"
        },
        "id": "lyfs3xkS4CIU",
        "outputId": "960edb46-9eb6-48b6-922c-cc1ad872f646"
      },
      "execution_count": null,
      "outputs": [
        {
          "output_type": "stream",
          "name": "stdout",
          "text": [
            "  verification_status  verification_status_fix\n",
            "0            Verified                        2\n",
            "1     Source Verified                        1\n",
            "2        Not Verified                        0\n",
            "3     Source Verified                        1\n",
            "4     Source Verified                        1\n"
          ]
        }
      ]
    },
    {
      "cell_type": "code",
      "source": [
        "label_encoder = preprocessing.LabelEncoder()\n",
        "df2['issue_d_fix']=label_encoder.fit_transform(df2['issue_d'])\n",
        "print(df2[['issue_d', 'issue_d_fix']].head())\n",
        "df2.drop([\"issue_d\"], axis=1, inplace=True)"
      ],
      "metadata": {
        "colab": {
          "base_uri": "https://localhost:8080/"
        },
        "id": "k1sOLWrP4Cvs",
        "outputId": "ce5b6876-1bb9-4438-c320-12c17eb5fb8f"
      },
      "execution_count": null,
      "outputs": [
        {
          "output_type": "stream",
          "name": "stdout",
          "text": [
            "  issue_d  issue_d_fix\n",
            "0  Dec-11           19\n",
            "1  Dec-11           19\n",
            "2  Dec-11           19\n",
            "3  Dec-11           19\n",
            "4  Dec-11           19\n"
          ]
        }
      ]
    },
    {
      "cell_type": "code",
      "source": [
        "label_encoder = preprocessing.LabelEncoder()\n",
        "df2['loan_status_fix']=label_encoder.fit_transform(df2['loan_status'])\n",
        "print(df2[['loan_status', 'loan_status_fix']].head())\n",
        "df2.drop([\"loan_status\"], axis=1, inplace=True)"
      ],
      "metadata": {
        "colab": {
          "base_uri": "https://localhost:8080/"
        },
        "id": "Ug_hvT344DK7",
        "outputId": "bc575dc6-09ce-4274-93a9-a51601e32a60"
      },
      "execution_count": null,
      "outputs": [
        {
          "output_type": "stream",
          "name": "stdout",
          "text": [
            "   loan_status  loan_status_fix\n",
            "0   Fully Paid                5\n",
            "1  Charged Off                0\n",
            "2   Fully Paid                5\n",
            "3   Fully Paid                5\n",
            "4      Current                1\n"
          ]
        }
      ]
    },
    {
      "cell_type": "code",
      "source": [
        "label_encoder = preprocessing.LabelEncoder()\n",
        "df2['pymnt_plan_fix']=label_encoder.fit_transform(df2['pymnt_plan'])\n",
        "print(df2[['pymnt_plan', 'pymnt_plan_fix']].head())\n",
        "df2.drop([\"pymnt_plan\"], axis=1, inplace=True)"
      ],
      "metadata": {
        "colab": {
          "base_uri": "https://localhost:8080/"
        },
        "id": "N9WCynbp4DlM",
        "outputId": "1aa7e3d0-9986-411f-a2c3-b9cb62dd579a"
      },
      "execution_count": null,
      "outputs": [
        {
          "output_type": "stream",
          "name": "stdout",
          "text": [
            "  pymnt_plan  pymnt_plan_fix\n",
            "0          n               0\n",
            "1          n               0\n",
            "2          n               0\n",
            "3          n               0\n",
            "4          n               0\n"
          ]
        }
      ]
    },
    {
      "cell_type": "code",
      "source": [
        "label_encoder = preprocessing.LabelEncoder()\n",
        "df2['url_fix']=label_encoder.fit_transform(df2['url'])\n",
        "print(df2[['url', 'url_fix']].head())\n",
        "df2.drop([\"url\"], axis=1, inplace=True)"
      ],
      "metadata": {
        "colab": {
          "base_uri": "https://localhost:8080/"
        },
        "id": "RulpyYyE5DJ2",
        "outputId": "55b3401e-58d2-4def-bfd2-36d1d5865fa8"
      },
      "execution_count": null,
      "outputs": [
        {
          "output_type": "stream",
          "name": "stdout",
          "text": [
            "                                                 url  url_fix\n",
            "0  https://www.lendingclub.com/browse/loanDetail....    21253\n",
            "1  https://www.lendingclub.com/browse/loanDetail....    21217\n",
            "2  https://www.lendingclub.com/browse/loanDetail....    21203\n",
            "3  https://www.lendingclub.com/browse/loanDetail....    21181\n",
            "4  https://www.lendingclub.com/browse/loanDetail....    20653\n"
          ]
        }
      ]
    },
    {
      "cell_type": "code",
      "source": [
        "label_encoder = preprocessing.LabelEncoder()\n",
        "df2['purpose_fix']=label_encoder.fit_transform(df2['purpose'])\n",
        "print(df2[['purpose', 'purpose_fix']].head())\n",
        "df2.drop([\"purpose\"], axis=1, inplace=True)"
      ],
      "metadata": {
        "colab": {
          "base_uri": "https://localhost:8080/"
        },
        "id": "06Ix_z9C5EWq",
        "outputId": "66dab9e9-8e0b-47af-fef8-bdf3cf04a5b8"
      },
      "execution_count": null,
      "outputs": [
        {
          "output_type": "stream",
          "name": "stdout",
          "text": [
            "          purpose  purpose_fix\n",
            "0     credit_card            1\n",
            "1             car            0\n",
            "2  small_business           11\n",
            "3           other            9\n",
            "4           other            9\n"
          ]
        }
      ]
    },
    {
      "cell_type": "code",
      "source": [
        "label_encoder = preprocessing.LabelEncoder()\n",
        "df2['title_fix']=label_encoder.fit_transform(df2['title'])\n",
        "print(df2[['title', 'title_fix']].head())\n",
        "df2.drop([\"title\"], axis=1, inplace=True)"
      ],
      "metadata": {
        "colab": {
          "base_uri": "https://localhost:8080/"
        },
        "id": "qv42SPcg5E4S",
        "outputId": "a8970cc2-fdca-472b-9891-46524e039c01"
      },
      "execution_count": null,
      "outputs": [
        {
          "output_type": "stream",
          "name": "stdout",
          "text": [
            "                  title  title_fix\n",
            "0              Computer       8851\n",
            "1                  bike      49816\n",
            "2  real estate business      60661\n",
            "3              personel      60338\n",
            "4              Personal      39313\n"
          ]
        }
      ]
    },
    {
      "cell_type": "code",
      "source": [
        "label_encoder = preprocessing.LabelEncoder()\n",
        "df2['zip_code_fix']=label_encoder.fit_transform(df2['zip_code'])\n",
        "print(df2[['zip_code', 'zip_code_fix']].head())\n",
        "df2.drop([\"zip_code\"], axis=1, inplace=True)"
      ],
      "metadata": {
        "colab": {
          "base_uri": "https://localhost:8080/"
        },
        "id": "9_xj4P0W5FTi",
        "outputId": "3bd95558-920e-4544-d245-d2ec47396e6e"
      },
      "execution_count": null,
      "outputs": [
        {
          "output_type": "stream",
          "name": "stdout",
          "text": [
            "  zip_code  zip_code_fix\n",
            "0    860xx           764\n",
            "1    309xx           286\n",
            "2    606xx           544\n",
            "3    917xx           808\n",
            "4    972xx           861\n"
          ]
        }
      ]
    },
    {
      "cell_type": "code",
      "source": [
        "label_encoder = preprocessing.LabelEncoder()\n",
        "df2['addr_state_fix']=label_encoder.fit_transform(df2['addr_state'])\n",
        "print(df2[['addr_state', 'addr_state_fix']].head())\n",
        "df2.drop([\"addr_state\"], axis=1, inplace=True)"
      ],
      "metadata": {
        "colab": {
          "base_uri": "https://localhost:8080/"
        },
        "id": "R5-lAUkM5Fqy",
        "outputId": "74dd98ab-fa11-472f-e76d-2277d8d5756f"
      },
      "execution_count": null,
      "outputs": [
        {
          "output_type": "stream",
          "name": "stdout",
          "text": [
            "  addr_state  addr_state_fix\n",
            "0         AZ               3\n",
            "1         GA              10\n",
            "2         IL              14\n",
            "3         CA               4\n",
            "4         OR              36\n"
          ]
        }
      ]
    },
    {
      "cell_type": "code",
      "source": [
        "label_encoder = preprocessing.LabelEncoder()\n",
        "df2['earliest_cr_line_fix']=label_encoder.fit_transform(df2['earliest_cr_line'])\n",
        "print(df2[['earliest_cr_line', 'earliest_cr_line_fix']].head())\n",
        "df2.drop([\"earliest_cr_line\"], axis=1, inplace=True)"
      ],
      "metadata": {
        "colab": {
          "base_uri": "https://localhost:8080/"
        },
        "id": "e5IQaFMv5F8q",
        "outputId": "a6d9a5bf-ff26-45c1-93b7-0c0108e873d6"
      },
      "execution_count": null,
      "outputs": [
        {
          "output_type": "stream",
          "name": "stdout",
          "text": [
            "  earliest_cr_line  earliest_cr_line_fix\n",
            "0           Jan-85                   261\n",
            "1           Apr-99                    51\n",
            "2           Nov-01                   495\n",
            "3           Feb-96                   209\n",
            "4           Jan-96                   272\n"
          ]
        }
      ]
    },
    {
      "cell_type": "code",
      "source": [
        "label_encoder = preprocessing.LabelEncoder()\n",
        "df2['initial_list_status_fix']=label_encoder.fit_transform(df2['initial_list_status'])\n",
        "print(df2[['initial_list_status', 'initial_list_status_fix']].head())\n",
        "df2.drop([\"initial_list_status\"], axis=1, inplace=True)"
      ],
      "metadata": {
        "colab": {
          "base_uri": "https://localhost:8080/"
        },
        "id": "CkX1d-ZA5GOK",
        "outputId": "91448f77-d687-47d4-a29b-621b7367bf88"
      },
      "execution_count": null,
      "outputs": [
        {
          "output_type": "stream",
          "name": "stdout",
          "text": [
            "  initial_list_status  initial_list_status_fix\n",
            "0                   f                        0\n",
            "1                   f                        0\n",
            "2                   f                        0\n",
            "3                   f                        0\n",
            "4                   f                        0\n"
          ]
        }
      ]
    },
    {
      "cell_type": "code",
      "source": [
        "label_encoder = preprocessing.LabelEncoder()\n",
        "df2['last_pymnt_d_fix']=label_encoder.fit_transform(df2['last_pymnt_d'])\n",
        "print(df2[['last_pymnt_d', 'last_pymnt_d_fix']].head())\n",
        "df2.drop([\"last_pymnt_d\"], axis=1, inplace=True)"
      ],
      "metadata": {
        "colab": {
          "base_uri": "https://localhost:8080/"
        },
        "id": "11ttKh6z65gS",
        "outputId": "f08d0096-2533-4b01-80ef-6175de45c6b1"
      },
      "execution_count": null,
      "outputs": [
        {
          "output_type": "stream",
          "name": "stdout",
          "text": [
            "  last_pymnt_d  last_pymnt_d_fix\n",
            "0       Jan-15                40\n",
            "1       Apr-13                 5\n",
            "2       Jun-14                56\n",
            "3       Jan-15                40\n",
            "4       Jan-16                41\n"
          ]
        }
      ]
    },
    {
      "cell_type": "code",
      "source": [
        "label_encoder = preprocessing.LabelEncoder()\n",
        "df2['next_pymnt_d_fix']=label_encoder.fit_transform(df2['next_pymnt_d'])\n",
        "print(df2[['next_pymnt_d', 'next_pymnt_d_fix']].head())\n",
        "df2.drop([\"next_pymnt_d\"], axis=1, inplace=True)"
      ],
      "metadata": {
        "colab": {
          "base_uri": "https://localhost:8080/"
        },
        "id": "Drt78-jT66E3",
        "outputId": "8a9a0a67-2132-46d7-e641-8ca57fb1b817"
      },
      "execution_count": null,
      "outputs": [
        {
          "output_type": "stream",
          "name": "stdout",
          "text": [
            "  next_pymnt_d  next_pymnt_d_fix\n",
            "0          NaN               100\n",
            "1          NaN               100\n",
            "2          NaN               100\n",
            "3          NaN               100\n",
            "4       Feb-16                33\n"
          ]
        }
      ]
    },
    {
      "cell_type": "code",
      "source": [
        "label_encoder = preprocessing.LabelEncoder()\n",
        "df2['last_credit_pull_d_fix']=label_encoder.fit_transform(df2['last_credit_pull_d'])\n",
        "print(df2[['last_credit_pull_d', 'last_credit_pull_d_fix']].head())\n",
        "df2.drop([\"last_credit_pull_d\"], axis=1, inplace=True)"
      ],
      "metadata": {
        "colab": {
          "base_uri": "https://localhost:8080/"
        },
        "id": "AiLPrGmY66SG",
        "outputId": "3d6208e1-fe37-4b21-802b-7be3a94e59bb"
      },
      "execution_count": null,
      "outputs": [
        {
          "output_type": "stream",
          "name": "stdout",
          "text": [
            "  last_credit_pull_d  last_credit_pull_d_fix\n",
            "0             Jan-16                      41\n",
            "1             Sep-13                     100\n",
            "2             Jan-16                      41\n",
            "3             Jan-15                      40\n",
            "4             Jan-16                      41\n"
          ]
        }
      ]
    },
    {
      "cell_type": "code",
      "source": [
        "label_encoder = preprocessing.LabelEncoder()\n",
        "df2['application_type_fix']=label_encoder.fit_transform(df2['application_type'])\n",
        "print(df2[['application_type', 'application_type_fix']].head())\n",
        "df2.drop([\"application_type\"], axis=1, inplace=True)"
      ],
      "metadata": {
        "colab": {
          "base_uri": "https://localhost:8080/"
        },
        "id": "G7Wdc6w866h2",
        "outputId": "58045a86-a2c7-472d-a0ae-30877ceca514"
      },
      "execution_count": null,
      "outputs": [
        {
          "output_type": "stream",
          "name": "stdout",
          "text": [
            "  application_type  application_type_fix\n",
            "0       INDIVIDUAL                     0\n",
            "1       INDIVIDUAL                     0\n",
            "2       INDIVIDUAL                     0\n",
            "3       INDIVIDUAL                     0\n",
            "4       INDIVIDUAL                     0\n"
          ]
        }
      ]
    },
    {
      "cell_type": "code",
      "source": [
        "df2.head(2)"
      ],
      "metadata": {
        "colab": {
          "base_uri": "https://localhost:8080/",
          "height": 176
        },
        "id": "bqvMTymF0Yqv",
        "outputId": "43e8eb8e-8a83-4c16-e2d8-109d9f9ac6fa"
      },
      "execution_count": null,
      "outputs": [
        {
          "output_type": "execute_result",
          "data": {
            "text/plain": [
              "        id  member_id  loan_amnt  funded_amnt  funded_amnt_inv  int_rate  \\\n",
              "0  1077501    1296599       5000         5000           4975.0     10.65   \n",
              "1  1077430    1314167       2500         2500           2500.0     15.27   \n",
              "\n",
              "   installment  annual_inc    dti  delinq_2yrs  inq_last_6mths  \\\n",
              "0       162.87     24000.0  27.65          0.0             1.0   \n",
              "1        59.83     30000.0   1.00          0.0             5.0   \n",
              "\n",
              "   mths_since_last_delinq  open_acc  pub_rec  revol_bal  revol_util  \\\n",
              "0                     NaN       3.0      0.0      13648        83.7   \n",
              "1                     NaN       3.0      0.0       1687         9.4   \n",
              "\n",
              "   total_acc  out_prncp  out_prncp_inv  total_pymnt  total_pymnt_inv  \\\n",
              "0        9.0        0.0            0.0  5861.071414          5831.78   \n",
              "1        4.0        0.0            0.0  1008.710000          1008.71   \n",
              "\n",
              "   total_rec_prncp  total_rec_int  total_rec_late_fee  recoveries  \\\n",
              "0          5000.00         861.07                 0.0        0.00   \n",
              "1           456.46         435.17                 0.0      117.08   \n",
              "\n",
              "   collection_recovery_fee  last_pymnt_amnt  collections_12_mths_ex_med  \\\n",
              "0                     0.00           171.62                         0.0   \n",
              "1                     1.11           119.66                         0.0   \n",
              "\n",
              "   policy_code  acc_now_delinq  tot_coll_amt  tot_cur_bal  total_rev_hi_lim  \\\n",
              "0            1             0.0           NaN          NaN               NaN   \n",
              "1            1             0.0           NaN          NaN               NaN   \n",
              "\n",
              "   term_fix  grade_fix  sub_grade_fix  emp_title_fix  emp_length_fix  \\\n",
              "0         0          1              6         205475               1   \n",
              "1         1          2             13         131796              10   \n",
              "\n",
              "   home_ownership_fix  verification_status_fix  issue_d_fix  loan_status_fix  \\\n",
              "0                   5                        2           19                5   \n",
              "1                   5                        1           19                0   \n",
              "\n",
              "   pymnt_plan_fix  url_fix  purpose_fix  title_fix  zip_code_fix  \\\n",
              "0               0    21253            1       8851           764   \n",
              "1               0    21217            0      49816           286   \n",
              "\n",
              "   addr_state_fix  earliest_cr_line_fix  initial_list_status_fix  \\\n",
              "0               3                   261                        0   \n",
              "1              10                    51                        0   \n",
              "\n",
              "   last_pymnt_d_fix  next_pymnt_d_fix  last_credit_pull_d_fix  \\\n",
              "0                40               100                      41   \n",
              "1                 5               100                     100   \n",
              "\n",
              "   application_type_fix  \n",
              "0                     0  \n",
              "1                     0  "
            ],
            "text/html": [
              "\n",
              "  <div id=\"df-5d4d23a2-04a7-49fa-bbe8-3ea365356885\">\n",
              "    <div class=\"colab-df-container\">\n",
              "      <div>\n",
              "<style scoped>\n",
              "    .dataframe tbody tr th:only-of-type {\n",
              "        vertical-align: middle;\n",
              "    }\n",
              "\n",
              "    .dataframe tbody tr th {\n",
              "        vertical-align: top;\n",
              "    }\n",
              "\n",
              "    .dataframe thead th {\n",
              "        text-align: right;\n",
              "    }\n",
              "</style>\n",
              "<table border=\"1\" class=\"dataframe\">\n",
              "  <thead>\n",
              "    <tr style=\"text-align: right;\">\n",
              "      <th></th>\n",
              "      <th>id</th>\n",
              "      <th>member_id</th>\n",
              "      <th>loan_amnt</th>\n",
              "      <th>funded_amnt</th>\n",
              "      <th>funded_amnt_inv</th>\n",
              "      <th>int_rate</th>\n",
              "      <th>installment</th>\n",
              "      <th>annual_inc</th>\n",
              "      <th>dti</th>\n",
              "      <th>delinq_2yrs</th>\n",
              "      <th>inq_last_6mths</th>\n",
              "      <th>mths_since_last_delinq</th>\n",
              "      <th>open_acc</th>\n",
              "      <th>pub_rec</th>\n",
              "      <th>revol_bal</th>\n",
              "      <th>revol_util</th>\n",
              "      <th>total_acc</th>\n",
              "      <th>out_prncp</th>\n",
              "      <th>out_prncp_inv</th>\n",
              "      <th>total_pymnt</th>\n",
              "      <th>total_pymnt_inv</th>\n",
              "      <th>total_rec_prncp</th>\n",
              "      <th>total_rec_int</th>\n",
              "      <th>total_rec_late_fee</th>\n",
              "      <th>recoveries</th>\n",
              "      <th>collection_recovery_fee</th>\n",
              "      <th>last_pymnt_amnt</th>\n",
              "      <th>collections_12_mths_ex_med</th>\n",
              "      <th>policy_code</th>\n",
              "      <th>acc_now_delinq</th>\n",
              "      <th>tot_coll_amt</th>\n",
              "      <th>tot_cur_bal</th>\n",
              "      <th>total_rev_hi_lim</th>\n",
              "      <th>term_fix</th>\n",
              "      <th>grade_fix</th>\n",
              "      <th>sub_grade_fix</th>\n",
              "      <th>emp_title_fix</th>\n",
              "      <th>emp_length_fix</th>\n",
              "      <th>home_ownership_fix</th>\n",
              "      <th>verification_status_fix</th>\n",
              "      <th>issue_d_fix</th>\n",
              "      <th>loan_status_fix</th>\n",
              "      <th>pymnt_plan_fix</th>\n",
              "      <th>url_fix</th>\n",
              "      <th>purpose_fix</th>\n",
              "      <th>title_fix</th>\n",
              "      <th>zip_code_fix</th>\n",
              "      <th>addr_state_fix</th>\n",
              "      <th>earliest_cr_line_fix</th>\n",
              "      <th>initial_list_status_fix</th>\n",
              "      <th>last_pymnt_d_fix</th>\n",
              "      <th>next_pymnt_d_fix</th>\n",
              "      <th>last_credit_pull_d_fix</th>\n",
              "      <th>application_type_fix</th>\n",
              "    </tr>\n",
              "  </thead>\n",
              "  <tbody>\n",
              "    <tr>\n",
              "      <th>0</th>\n",
              "      <td>1077501</td>\n",
              "      <td>1296599</td>\n",
              "      <td>5000</td>\n",
              "      <td>5000</td>\n",
              "      <td>4975.0</td>\n",
              "      <td>10.65</td>\n",
              "      <td>162.87</td>\n",
              "      <td>24000.0</td>\n",
              "      <td>27.65</td>\n",
              "      <td>0.0</td>\n",
              "      <td>1.0</td>\n",
              "      <td>NaN</td>\n",
              "      <td>3.0</td>\n",
              "      <td>0.0</td>\n",
              "      <td>13648</td>\n",
              "      <td>83.7</td>\n",
              "      <td>9.0</td>\n",
              "      <td>0.0</td>\n",
              "      <td>0.0</td>\n",
              "      <td>5861.071414</td>\n",
              "      <td>5831.78</td>\n",
              "      <td>5000.00</td>\n",
              "      <td>861.07</td>\n",
              "      <td>0.0</td>\n",
              "      <td>0.00</td>\n",
              "      <td>0.00</td>\n",
              "      <td>171.62</td>\n",
              "      <td>0.0</td>\n",
              "      <td>1</td>\n",
              "      <td>0.0</td>\n",
              "      <td>NaN</td>\n",
              "      <td>NaN</td>\n",
              "      <td>NaN</td>\n",
              "      <td>0</td>\n",
              "      <td>1</td>\n",
              "      <td>6</td>\n",
              "      <td>205475</td>\n",
              "      <td>1</td>\n",
              "      <td>5</td>\n",
              "      <td>2</td>\n",
              "      <td>19</td>\n",
              "      <td>5</td>\n",
              "      <td>0</td>\n",
              "      <td>21253</td>\n",
              "      <td>1</td>\n",
              "      <td>8851</td>\n",
              "      <td>764</td>\n",
              "      <td>3</td>\n",
              "      <td>261</td>\n",
              "      <td>0</td>\n",
              "      <td>40</td>\n",
              "      <td>100</td>\n",
              "      <td>41</td>\n",
              "      <td>0</td>\n",
              "    </tr>\n",
              "    <tr>\n",
              "      <th>1</th>\n",
              "      <td>1077430</td>\n",
              "      <td>1314167</td>\n",
              "      <td>2500</td>\n",
              "      <td>2500</td>\n",
              "      <td>2500.0</td>\n",
              "      <td>15.27</td>\n",
              "      <td>59.83</td>\n",
              "      <td>30000.0</td>\n",
              "      <td>1.00</td>\n",
              "      <td>0.0</td>\n",
              "      <td>5.0</td>\n",
              "      <td>NaN</td>\n",
              "      <td>3.0</td>\n",
              "      <td>0.0</td>\n",
              "      <td>1687</td>\n",
              "      <td>9.4</td>\n",
              "      <td>4.0</td>\n",
              "      <td>0.0</td>\n",
              "      <td>0.0</td>\n",
              "      <td>1008.710000</td>\n",
              "      <td>1008.71</td>\n",
              "      <td>456.46</td>\n",
              "      <td>435.17</td>\n",
              "      <td>0.0</td>\n",
              "      <td>117.08</td>\n",
              "      <td>1.11</td>\n",
              "      <td>119.66</td>\n",
              "      <td>0.0</td>\n",
              "      <td>1</td>\n",
              "      <td>0.0</td>\n",
              "      <td>NaN</td>\n",
              "      <td>NaN</td>\n",
              "      <td>NaN</td>\n",
              "      <td>1</td>\n",
              "      <td>2</td>\n",
              "      <td>13</td>\n",
              "      <td>131796</td>\n",
              "      <td>10</td>\n",
              "      <td>5</td>\n",
              "      <td>1</td>\n",
              "      <td>19</td>\n",
              "      <td>0</td>\n",
              "      <td>0</td>\n",
              "      <td>21217</td>\n",
              "      <td>0</td>\n",
              "      <td>49816</td>\n",
              "      <td>286</td>\n",
              "      <td>10</td>\n",
              "      <td>51</td>\n",
              "      <td>0</td>\n",
              "      <td>5</td>\n",
              "      <td>100</td>\n",
              "      <td>100</td>\n",
              "      <td>0</td>\n",
              "    </tr>\n",
              "  </tbody>\n",
              "</table>\n",
              "</div>\n",
              "      <button class=\"colab-df-convert\" onclick=\"convertToInteractive('df-5d4d23a2-04a7-49fa-bbe8-3ea365356885')\"\n",
              "              title=\"Convert this dataframe to an interactive table.\"\n",
              "              style=\"display:none;\">\n",
              "        \n",
              "  <svg xmlns=\"http://www.w3.org/2000/svg\" height=\"24px\"viewBox=\"0 0 24 24\"\n",
              "       width=\"24px\">\n",
              "    <path d=\"M0 0h24v24H0V0z\" fill=\"none\"/>\n",
              "    <path d=\"M18.56 5.44l.94 2.06.94-2.06 2.06-.94-2.06-.94-.94-2.06-.94 2.06-2.06.94zm-11 1L8.5 8.5l.94-2.06 2.06-.94-2.06-.94L8.5 2.5l-.94 2.06-2.06.94zm10 10l.94 2.06.94-2.06 2.06-.94-2.06-.94-.94-2.06-.94 2.06-2.06.94z\"/><path d=\"M17.41 7.96l-1.37-1.37c-.4-.4-.92-.59-1.43-.59-.52 0-1.04.2-1.43.59L10.3 9.45l-7.72 7.72c-.78.78-.78 2.05 0 2.83L4 21.41c.39.39.9.59 1.41.59.51 0 1.02-.2 1.41-.59l7.78-7.78 2.81-2.81c.8-.78.8-2.07 0-2.86zM5.41 20L4 18.59l7.72-7.72 1.47 1.35L5.41 20z\"/>\n",
              "  </svg>\n",
              "      </button>\n",
              "      \n",
              "  <style>\n",
              "    .colab-df-container {\n",
              "      display:flex;\n",
              "      flex-wrap:wrap;\n",
              "      gap: 12px;\n",
              "    }\n",
              "\n",
              "    .colab-df-convert {\n",
              "      background-color: #E8F0FE;\n",
              "      border: none;\n",
              "      border-radius: 50%;\n",
              "      cursor: pointer;\n",
              "      display: none;\n",
              "      fill: #1967D2;\n",
              "      height: 32px;\n",
              "      padding: 0 0 0 0;\n",
              "      width: 32px;\n",
              "    }\n",
              "\n",
              "    .colab-df-convert:hover {\n",
              "      background-color: #E2EBFA;\n",
              "      box-shadow: 0px 1px 2px rgba(60, 64, 67, 0.3), 0px 1px 3px 1px rgba(60, 64, 67, 0.15);\n",
              "      fill: #174EA6;\n",
              "    }\n",
              "\n",
              "    [theme=dark] .colab-df-convert {\n",
              "      background-color: #3B4455;\n",
              "      fill: #D2E3FC;\n",
              "    }\n",
              "\n",
              "    [theme=dark] .colab-df-convert:hover {\n",
              "      background-color: #434B5C;\n",
              "      box-shadow: 0px 1px 3px 1px rgba(0, 0, 0, 0.15);\n",
              "      filter: drop-shadow(0px 1px 2px rgba(0, 0, 0, 0.3));\n",
              "      fill: #FFFFFF;\n",
              "    }\n",
              "  </style>\n",
              "\n",
              "      <script>\n",
              "        const buttonEl =\n",
              "          document.querySelector('#df-5d4d23a2-04a7-49fa-bbe8-3ea365356885 button.colab-df-convert');\n",
              "        buttonEl.style.display =\n",
              "          google.colab.kernel.accessAllowed ? 'block' : 'none';\n",
              "\n",
              "        async function convertToInteractive(key) {\n",
              "          const element = document.querySelector('#df-5d4d23a2-04a7-49fa-bbe8-3ea365356885');\n",
              "          const dataTable =\n",
              "            await google.colab.kernel.invokeFunction('convertToInteractive',\n",
              "                                                     [key], {});\n",
              "          if (!dataTable) return;\n",
              "\n",
              "          const docLinkHtml = 'Like what you see? Visit the ' +\n",
              "            '<a target=\"_blank\" href=https://colab.research.google.com/notebooks/data_table.ipynb>data table notebook</a>'\n",
              "            + ' to learn more about interactive tables.';\n",
              "          element.innerHTML = '';\n",
              "          dataTable['output_type'] = 'display_data';\n",
              "          await google.colab.output.renderOutput(dataTable, element);\n",
              "          const docLink = document.createElement('div');\n",
              "          docLink.innerHTML = docLinkHtml;\n",
              "          element.appendChild(docLink);\n",
              "        }\n",
              "      </script>\n",
              "    </div>\n",
              "  </div>\n",
              "  "
            ]
          },
          "metadata": {},
          "execution_count": 40
        }
      ]
    },
    {
      "cell_type": "markdown",
      "source": [
        "## Menanganan Data Hilang"
      ],
      "metadata": {
        "id": "gER9cU9LLhMi"
      }
    },
    {
      "cell_type": "code",
      "source": [
        "df2_fix=df2\n",
        "flt_col = df2_fix.columns[df2_fix.dtypes==float]\n",
        "df2_fix[flt_col] = df2_fix[flt_col].fillna(df2_fix[flt_col].mean())"
      ],
      "metadata": {
        "id": "Zo7ywJLx-Ljc"
      },
      "execution_count": null,
      "outputs": []
    },
    {
      "cell_type": "code",
      "source": [
        "df2_fix.info()"
      ],
      "metadata": {
        "colab": {
          "base_uri": "https://localhost:8080/"
        },
        "id": "nJ2JsdHbNt_Y",
        "outputId": "fb352b94-62f0-478e-e9ca-778d2e7d1d6b"
      },
      "execution_count": null,
      "outputs": [
        {
          "output_type": "stream",
          "name": "stdout",
          "text": [
            "<class 'pandas.core.frame.DataFrame'>\n",
            "RangeIndex: 466285 entries, 0 to 466284\n",
            "Data columns (total 54 columns):\n",
            " #   Column                      Non-Null Count   Dtype  \n",
            "---  ------                      --------------   -----  \n",
            " 0   id                          466285 non-null  int64  \n",
            " 1   member_id                   466285 non-null  int64  \n",
            " 2   loan_amnt                   466285 non-null  int64  \n",
            " 3   funded_amnt                 466285 non-null  int64  \n",
            " 4   funded_amnt_inv             466285 non-null  float64\n",
            " 5   int_rate                    466285 non-null  float64\n",
            " 6   installment                 466285 non-null  float64\n",
            " 7   annual_inc                  466285 non-null  float64\n",
            " 8   dti                         466285 non-null  float64\n",
            " 9   delinq_2yrs                 466285 non-null  float64\n",
            " 10  inq_last_6mths              466285 non-null  float64\n",
            " 11  mths_since_last_delinq      466285 non-null  float64\n",
            " 12  open_acc                    466285 non-null  float64\n",
            " 13  pub_rec                     466285 non-null  float64\n",
            " 14  revol_bal                   466285 non-null  int64  \n",
            " 15  revol_util                  466285 non-null  float64\n",
            " 16  total_acc                   466285 non-null  float64\n",
            " 17  out_prncp                   466285 non-null  float64\n",
            " 18  out_prncp_inv               466285 non-null  float64\n",
            " 19  total_pymnt                 466285 non-null  float64\n",
            " 20  total_pymnt_inv             466285 non-null  float64\n",
            " 21  total_rec_prncp             466285 non-null  float64\n",
            " 22  total_rec_int               466285 non-null  float64\n",
            " 23  total_rec_late_fee          466285 non-null  float64\n",
            " 24  recoveries                  466285 non-null  float64\n",
            " 25  collection_recovery_fee     466285 non-null  float64\n",
            " 26  last_pymnt_amnt             466285 non-null  float64\n",
            " 27  collections_12_mths_ex_med  466285 non-null  float64\n",
            " 28  policy_code                 466285 non-null  int64  \n",
            " 29  acc_now_delinq              466285 non-null  float64\n",
            " 30  tot_coll_amt                466285 non-null  float64\n",
            " 31  tot_cur_bal                 466285 non-null  float64\n",
            " 32  total_rev_hi_lim            466285 non-null  float64\n",
            " 33  term_fix                    466285 non-null  int64  \n",
            " 34  grade_fix                   466285 non-null  int64  \n",
            " 35  sub_grade_fix               466285 non-null  int64  \n",
            " 36  emp_title_fix               466285 non-null  int64  \n",
            " 37  emp_length_fix              466285 non-null  int64  \n",
            " 38  home_ownership_fix          466285 non-null  int64  \n",
            " 39  verification_status_fix     466285 non-null  int64  \n",
            " 40  issue_d_fix                 466285 non-null  int64  \n",
            " 41  loan_status_fix             466285 non-null  int64  \n",
            " 42  pymnt_plan_fix              466285 non-null  int64  \n",
            " 43  url_fix                     466285 non-null  int64  \n",
            " 44  purpose_fix                 466285 non-null  int64  \n",
            " 45  title_fix                   466285 non-null  int64  \n",
            " 46  zip_code_fix                466285 non-null  int64  \n",
            " 47  addr_state_fix              466285 non-null  int64  \n",
            " 48  earliest_cr_line_fix        466285 non-null  int64  \n",
            " 49  initial_list_status_fix     466285 non-null  int64  \n",
            " 50  last_pymnt_d_fix            466285 non-null  int64  \n",
            " 51  next_pymnt_d_fix            466285 non-null  int64  \n",
            " 52  last_credit_pull_d_fix      466285 non-null  int64  \n",
            " 53  application_type_fix        466285 non-null  int64  \n",
            "dtypes: float64(27), int64(27)\n",
            "memory usage: 192.1 MB\n"
          ]
        }
      ]
    },
    {
      "cell_type": "markdown",
      "source": [
        "# Fitur Seleksi"
      ],
      "metadata": {
        "id": "U7gq-UxzAmO-"
      }
    },
    {
      "cell_type": "code",
      "source": [
        "X = df2_fix.drop(['loan_status_fix'], axis=1) \n",
        "y = df2_fix.loan_status_fix "
      ],
      "metadata": {
        "id": "IhZd9IBSAkGH"
      },
      "execution_count": null,
      "outputs": []
    },
    {
      "cell_type": "code",
      "source": [
        "bestfeatures = SelectKBest(score_func=chi2, k=10)\n",
        "fit = bestfeatures.fit(X,y)\n",
        "dfscores = pd.DataFrame(fit.scores_)\n",
        "dfcolumns = pd.DataFrame(X.columns)\n",
        "\n",
        "featureScores = pd.concat([dfcolumns,dfscores],axis=1)\n",
        "featureScores.columns = ['Specs','Score']  \n",
        "print(featureScores.nlargest(15,'Score'))"
      ],
      "metadata": {
        "colab": {
          "base_uri": "https://localhost:8080/"
        },
        "id": "ybuqkRRqy0P0",
        "outputId": "7b2eb797-e774-45db-b3c6-26ba04937c00"
      },
      "execution_count": null,
      "outputs": [
        {
          "output_type": "stream",
          "name": "stdout",
          "text": [
            "              Specs         Score\n",
            "1         member_id  8.810868e+11\n",
            "0                id  8.287988e+11\n",
            "17        out_prncp  2.005149e+09\n",
            "18    out_prncp_inv  2.004419e+09\n",
            "26  last_pymnt_amnt  1.602034e+09\n",
            "21  total_rec_prncp  6.761935e+08\n",
            "24       recoveries  3.904353e+08\n",
            "19      total_pymnt  3.859449e+08\n",
            "20  total_pymnt_inv  3.813675e+08\n",
            "31      tot_cur_bal  1.438959e+08\n",
            "44        title_fix  1.095138e+08\n",
            "14        revol_bal  5.666811e+07\n",
            "42          url_fix  5.611723e+07\n",
            "7        annual_inc  5.120575e+07\n",
            "22    total_rec_int  4.674778e+07\n"
          ]
        }
      ]
    },
    {
      "cell_type": "code",
      "source": [
        "df3 = df2_fix.copy()\n",
        "df3.reset_index(inplace=True)\n",
        "fix_df = df3.get(['out_prncp', 'out_prncp_inv', 'last_pymnt_amnt', 'total_rec_prncp', 'recoveries', 'total_pymnt', 'total_pymnt_inv', 'tot_cur_bal', 'title_fix', 'revol_bal', 'url_fix', 'annual_inc', 'total_rec_int', 'loan_status_fix'])"
      ],
      "metadata": {
        "id": "ikh3eXbQF9Pl"
      },
      "execution_count": null,
      "outputs": []
    },
    {
      "cell_type": "code",
      "source": [
        "fix_df.head()"
      ],
      "metadata": {
        "colab": {
          "base_uri": "https://localhost:8080/",
          "height": 250
        },
        "id": "9Bdv3Fx5IPpb",
        "outputId": "c1839b95-2b47-489b-92db-25f5d9908c45"
      },
      "execution_count": null,
      "outputs": [
        {
          "output_type": "execute_result",
          "data": {
            "text/plain": [
              "   out_prncp  out_prncp_inv  last_pymnt_amnt  total_rec_prncp  recoveries  \\\n",
              "0        0.0            0.0           171.62          5000.00        0.00   \n",
              "1        0.0            0.0           119.66           456.46      117.08   \n",
              "2        0.0            0.0           649.91          2400.00        0.00   \n",
              "3        0.0            0.0           357.48         10000.00        0.00   \n",
              "4      766.9          766.9            67.79          2233.10        0.00   \n",
              "\n",
              "    total_pymnt  total_pymnt_inv    tot_cur_bal  title_fix  revol_bal  \\\n",
              "0   5861.071414          5831.78  138801.713385       8851      13648   \n",
              "1   1008.710000          1008.71  138801.713385      49816       1687   \n",
              "2   3003.653644          3003.65  138801.713385      60661       2956   \n",
              "3  12226.302210         12226.30  138801.713385      60338       5598   \n",
              "4   3242.170000          3242.17  138801.713385      39313      27783   \n",
              "\n",
              "   url_fix  annual_inc  total_rec_int  loan_status_fix  \n",
              "0    21253     24000.0         861.07                5  \n",
              "1    21217     30000.0         435.17                0  \n",
              "2    21203     12252.0         603.65                5  \n",
              "3    21181     49200.0        2209.33                5  \n",
              "4    20653     80000.0        1009.07                1  "
            ],
            "text/html": [
              "\n",
              "  <div id=\"df-b0cd3909-1051-48f8-8d11-b2693c0951da\">\n",
              "    <div class=\"colab-df-container\">\n",
              "      <div>\n",
              "<style scoped>\n",
              "    .dataframe tbody tr th:only-of-type {\n",
              "        vertical-align: middle;\n",
              "    }\n",
              "\n",
              "    .dataframe tbody tr th {\n",
              "        vertical-align: top;\n",
              "    }\n",
              "\n",
              "    .dataframe thead th {\n",
              "        text-align: right;\n",
              "    }\n",
              "</style>\n",
              "<table border=\"1\" class=\"dataframe\">\n",
              "  <thead>\n",
              "    <tr style=\"text-align: right;\">\n",
              "      <th></th>\n",
              "      <th>out_prncp</th>\n",
              "      <th>out_prncp_inv</th>\n",
              "      <th>last_pymnt_amnt</th>\n",
              "      <th>total_rec_prncp</th>\n",
              "      <th>recoveries</th>\n",
              "      <th>total_pymnt</th>\n",
              "      <th>total_pymnt_inv</th>\n",
              "      <th>tot_cur_bal</th>\n",
              "      <th>title_fix</th>\n",
              "      <th>revol_bal</th>\n",
              "      <th>url_fix</th>\n",
              "      <th>annual_inc</th>\n",
              "      <th>total_rec_int</th>\n",
              "      <th>loan_status_fix</th>\n",
              "    </tr>\n",
              "  </thead>\n",
              "  <tbody>\n",
              "    <tr>\n",
              "      <th>0</th>\n",
              "      <td>0.0</td>\n",
              "      <td>0.0</td>\n",
              "      <td>171.62</td>\n",
              "      <td>5000.00</td>\n",
              "      <td>0.00</td>\n",
              "      <td>5861.071414</td>\n",
              "      <td>5831.78</td>\n",
              "      <td>138801.713385</td>\n",
              "      <td>8851</td>\n",
              "      <td>13648</td>\n",
              "      <td>21253</td>\n",
              "      <td>24000.0</td>\n",
              "      <td>861.07</td>\n",
              "      <td>5</td>\n",
              "    </tr>\n",
              "    <tr>\n",
              "      <th>1</th>\n",
              "      <td>0.0</td>\n",
              "      <td>0.0</td>\n",
              "      <td>119.66</td>\n",
              "      <td>456.46</td>\n",
              "      <td>117.08</td>\n",
              "      <td>1008.710000</td>\n",
              "      <td>1008.71</td>\n",
              "      <td>138801.713385</td>\n",
              "      <td>49816</td>\n",
              "      <td>1687</td>\n",
              "      <td>21217</td>\n",
              "      <td>30000.0</td>\n",
              "      <td>435.17</td>\n",
              "      <td>0</td>\n",
              "    </tr>\n",
              "    <tr>\n",
              "      <th>2</th>\n",
              "      <td>0.0</td>\n",
              "      <td>0.0</td>\n",
              "      <td>649.91</td>\n",
              "      <td>2400.00</td>\n",
              "      <td>0.00</td>\n",
              "      <td>3003.653644</td>\n",
              "      <td>3003.65</td>\n",
              "      <td>138801.713385</td>\n",
              "      <td>60661</td>\n",
              "      <td>2956</td>\n",
              "      <td>21203</td>\n",
              "      <td>12252.0</td>\n",
              "      <td>603.65</td>\n",
              "      <td>5</td>\n",
              "    </tr>\n",
              "    <tr>\n",
              "      <th>3</th>\n",
              "      <td>0.0</td>\n",
              "      <td>0.0</td>\n",
              "      <td>357.48</td>\n",
              "      <td>10000.00</td>\n",
              "      <td>0.00</td>\n",
              "      <td>12226.302210</td>\n",
              "      <td>12226.30</td>\n",
              "      <td>138801.713385</td>\n",
              "      <td>60338</td>\n",
              "      <td>5598</td>\n",
              "      <td>21181</td>\n",
              "      <td>49200.0</td>\n",
              "      <td>2209.33</td>\n",
              "      <td>5</td>\n",
              "    </tr>\n",
              "    <tr>\n",
              "      <th>4</th>\n",
              "      <td>766.9</td>\n",
              "      <td>766.9</td>\n",
              "      <td>67.79</td>\n",
              "      <td>2233.10</td>\n",
              "      <td>0.00</td>\n",
              "      <td>3242.170000</td>\n",
              "      <td>3242.17</td>\n",
              "      <td>138801.713385</td>\n",
              "      <td>39313</td>\n",
              "      <td>27783</td>\n",
              "      <td>20653</td>\n",
              "      <td>80000.0</td>\n",
              "      <td>1009.07</td>\n",
              "      <td>1</td>\n",
              "    </tr>\n",
              "  </tbody>\n",
              "</table>\n",
              "</div>\n",
              "      <button class=\"colab-df-convert\" onclick=\"convertToInteractive('df-b0cd3909-1051-48f8-8d11-b2693c0951da')\"\n",
              "              title=\"Convert this dataframe to an interactive table.\"\n",
              "              style=\"display:none;\">\n",
              "        \n",
              "  <svg xmlns=\"http://www.w3.org/2000/svg\" height=\"24px\"viewBox=\"0 0 24 24\"\n",
              "       width=\"24px\">\n",
              "    <path d=\"M0 0h24v24H0V0z\" fill=\"none\"/>\n",
              "    <path d=\"M18.56 5.44l.94 2.06.94-2.06 2.06-.94-2.06-.94-.94-2.06-.94 2.06-2.06.94zm-11 1L8.5 8.5l.94-2.06 2.06-.94-2.06-.94L8.5 2.5l-.94 2.06-2.06.94zm10 10l.94 2.06.94-2.06 2.06-.94-2.06-.94-.94-2.06-.94 2.06-2.06.94z\"/><path d=\"M17.41 7.96l-1.37-1.37c-.4-.4-.92-.59-1.43-.59-.52 0-1.04.2-1.43.59L10.3 9.45l-7.72 7.72c-.78.78-.78 2.05 0 2.83L4 21.41c.39.39.9.59 1.41.59.51 0 1.02-.2 1.41-.59l7.78-7.78 2.81-2.81c.8-.78.8-2.07 0-2.86zM5.41 20L4 18.59l7.72-7.72 1.47 1.35L5.41 20z\"/>\n",
              "  </svg>\n",
              "      </button>\n",
              "      \n",
              "  <style>\n",
              "    .colab-df-container {\n",
              "      display:flex;\n",
              "      flex-wrap:wrap;\n",
              "      gap: 12px;\n",
              "    }\n",
              "\n",
              "    .colab-df-convert {\n",
              "      background-color: #E8F0FE;\n",
              "      border: none;\n",
              "      border-radius: 50%;\n",
              "      cursor: pointer;\n",
              "      display: none;\n",
              "      fill: #1967D2;\n",
              "      height: 32px;\n",
              "      padding: 0 0 0 0;\n",
              "      width: 32px;\n",
              "    }\n",
              "\n",
              "    .colab-df-convert:hover {\n",
              "      background-color: #E2EBFA;\n",
              "      box-shadow: 0px 1px 2px rgba(60, 64, 67, 0.3), 0px 1px 3px 1px rgba(60, 64, 67, 0.15);\n",
              "      fill: #174EA6;\n",
              "    }\n",
              "\n",
              "    [theme=dark] .colab-df-convert {\n",
              "      background-color: #3B4455;\n",
              "      fill: #D2E3FC;\n",
              "    }\n",
              "\n",
              "    [theme=dark] .colab-df-convert:hover {\n",
              "      background-color: #434B5C;\n",
              "      box-shadow: 0px 1px 3px 1px rgba(0, 0, 0, 0.15);\n",
              "      filter: drop-shadow(0px 1px 2px rgba(0, 0, 0, 0.3));\n",
              "      fill: #FFFFFF;\n",
              "    }\n",
              "  </style>\n",
              "\n",
              "      <script>\n",
              "        const buttonEl =\n",
              "          document.querySelector('#df-b0cd3909-1051-48f8-8d11-b2693c0951da button.colab-df-convert');\n",
              "        buttonEl.style.display =\n",
              "          google.colab.kernel.accessAllowed ? 'block' : 'none';\n",
              "\n",
              "        async function convertToInteractive(key) {\n",
              "          const element = document.querySelector('#df-b0cd3909-1051-48f8-8d11-b2693c0951da');\n",
              "          const dataTable =\n",
              "            await google.colab.kernel.invokeFunction('convertToInteractive',\n",
              "                                                     [key], {});\n",
              "          if (!dataTable) return;\n",
              "\n",
              "          const docLinkHtml = 'Like what you see? Visit the ' +\n",
              "            '<a target=\"_blank\" href=https://colab.research.google.com/notebooks/data_table.ipynb>data table notebook</a>'\n",
              "            + ' to learn more about interactive tables.';\n",
              "          element.innerHTML = '';\n",
              "          dataTable['output_type'] = 'display_data';\n",
              "          await google.colab.output.renderOutput(dataTable, element);\n",
              "          const docLink = document.createElement('div');\n",
              "          docLink.innerHTML = docLinkHtml;\n",
              "          element.appendChild(docLink);\n",
              "        }\n",
              "      </script>\n",
              "    </div>\n",
              "  </div>\n",
              "  "
            ]
          },
          "metadata": {},
          "execution_count": 46
        }
      ]
    },
    {
      "cell_type": "markdown",
      "source": [
        "# Modeling"
      ],
      "metadata": {
        "id": "pJanGFWrLY48"
      }
    },
    {
      "cell_type": "code",
      "source": [
        "Xn = fix_df.drop(['loan_status_fix'], axis=1) \n",
        "yn = fix_df.loan_status_fix "
      ],
      "metadata": {
        "id": "qiz34J74HCU1"
      },
      "execution_count": null,
      "outputs": []
    },
    {
      "cell_type": "code",
      "source": [
        "Xn_train, Xn_test, yn_train, yn_test = train_test_split(Xn, yn, test_size=0.2) "
      ],
      "metadata": {
        "id": "reXU0TogHPFG"
      },
      "execution_count": null,
      "outputs": []
    },
    {
      "cell_type": "markdown",
      "source": [
        "## Logistic Regression"
      ],
      "metadata": {
        "id": "Mlb3MGURL0vH"
      }
    },
    {
      "cell_type": "code",
      "source": [
        "classifierlog2 =  LogisticRegression()\n",
        "classifierlog2.fit(Xn_train, yn_train) # fit : untuk proses pelatihan\n",
        "yn_predlog2 = classifierlog2.predict(Xn_test)"
      ],
      "metadata": {
        "colab": {
          "base_uri": "https://localhost:8080/"
        },
        "id": "JyYol9z6HTCA",
        "outputId": "d7ccfce1-eff5-47a7-b631-204736b70ca7"
      },
      "execution_count": null,
      "outputs": [
        {
          "output_type": "stream",
          "name": "stderr",
          "text": [
            "/usr/local/lib/python3.7/dist-packages/sklearn/linear_model/_logistic.py:818: ConvergenceWarning: lbfgs failed to converge (status=1):\n",
            "STOP: TOTAL NO. of ITERATIONS REACHED LIMIT.\n",
            "\n",
            "Increase the number of iterations (max_iter) or scale the data as shown in:\n",
            "    https://scikit-learn.org/stable/modules/preprocessing.html\n",
            "Please also refer to the documentation for alternative solver options:\n",
            "    https://scikit-learn.org/stable/modules/linear_model.html#logistic-regression\n",
            "  extra_warning_msg=_LOGISTIC_SOLVER_CONVERGENCE_MSG,\n"
          ]
        }
      ]
    },
    {
      "cell_type": "code",
      "source": [
        "print(\"Accuracy:\",metrics.accuracy_score(yn_test, yn_predlog2))"
      ],
      "metadata": {
        "colab": {
          "base_uri": "https://localhost:8080/"
        },
        "id": "XbyoEH33JERk",
        "outputId": "8ddca096-69c1-43ad-985b-3912b44f5762"
      },
      "execution_count": null,
      "outputs": [
        {
          "output_type": "stream",
          "name": "stdout",
          "text": [
            "Accuracy: 0.9014658417062527\n"
          ]
        }
      ]
    },
    {
      "cell_type": "code",
      "source": [
        "## Evaluasi dengan Classification Report\n",
        "\n",
        "# Menggunakan fungsi Classification Report dari sklearn\n",
        "from sklearn.metrics import classification_report\n",
        "\n",
        "# Kita akan cek hasil confusion matrix antara hasil sebenarnya dengan prediksi dari model ke data test\n",
        "report = classification_report(yn_test, yn_predlog2)\n",
        "\n",
        "# cek hasil matrix\n",
        "print(report)"
      ],
      "metadata": {
        "colab": {
          "base_uri": "https://localhost:8080/"
        },
        "id": "fMtnefJlMJjU",
        "outputId": "53390504-b9f1-49a6-d349-3dd3e26ac58a"
      },
      "execution_count": null,
      "outputs": [
        {
          "output_type": "stream",
          "name": "stderr",
          "text": [
            "/usr/local/lib/python3.7/dist-packages/sklearn/metrics/_classification.py:1318: UndefinedMetricWarning: Precision and F-score are ill-defined and being set to 0.0 in labels with no predicted samples. Use `zero_division` parameter to control this behavior.\n",
            "  _warn_prf(average, modifier, msg_start, len(result))\n"
          ]
        },
        {
          "output_type": "stream",
          "name": "stdout",
          "text": [
            "              precision    recall  f1-score   support\n",
            "\n",
            "           0       0.94      0.48      0.63      8515\n",
            "           1       0.92      0.97      0.94     44729\n",
            "           2       0.00      0.00      0.00       154\n",
            "           3       0.00      0.00      0.00       147\n",
            "           4       0.00      0.00      0.00       367\n",
            "           5       0.88      0.99      0.93     37039\n",
            "           6       0.00      0.00      0.00       665\n",
            "           7       0.00      0.00      0.00       262\n",
            "           8       0.00      0.00      0.00      1379\n",
            "\n",
            "    accuracy                           0.90     93257\n",
            "   macro avg       0.30      0.27      0.28     93257\n",
            "weighted avg       0.88      0.90      0.88     93257\n",
            "\n"
          ]
        },
        {
          "output_type": "stream",
          "name": "stderr",
          "text": [
            "/usr/local/lib/python3.7/dist-packages/sklearn/metrics/_classification.py:1318: UndefinedMetricWarning: Precision and F-score are ill-defined and being set to 0.0 in labels with no predicted samples. Use `zero_division` parameter to control this behavior.\n",
            "  _warn_prf(average, modifier, msg_start, len(result))\n",
            "/usr/local/lib/python3.7/dist-packages/sklearn/metrics/_classification.py:1318: UndefinedMetricWarning: Precision and F-score are ill-defined and being set to 0.0 in labels with no predicted samples. Use `zero_division` parameter to control this behavior.\n",
            "  _warn_prf(average, modifier, msg_start, len(result))\n"
          ]
        }
      ]
    },
    {
      "cell_type": "markdown",
      "source": [
        "## Decision Tree"
      ],
      "metadata": {
        "id": "IPjjI2dBL7VV"
      }
    },
    {
      "cell_type": "code",
      "source": [
        "classifierdt2 =  DecisionTreeClassifier()\n",
        "classifierdt2.fit(Xn_train, yn_train) # fit : untuk proses pelatihan\n",
        "yn_preddt2 = classifierdt2.predict(Xn_test)"
      ],
      "metadata": {
        "id": "WhmK4dLgJ3e4"
      },
      "execution_count": null,
      "outputs": []
    },
    {
      "cell_type": "code",
      "source": [
        "print(\"Accuracy:\",metrics.accuracy_score(yn_test, yn_preddt2))"
      ],
      "metadata": {
        "colab": {
          "base_uri": "https://localhost:8080/"
        },
        "id": "r2zMoynRKHTd",
        "outputId": "bc0b16c4-c77b-4b76-9b74-20f4e3ab7c87"
      },
      "execution_count": null,
      "outputs": [
        {
          "output_type": "stream",
          "name": "stdout",
          "text": [
            "Accuracy: 0.9471567817965407\n"
          ]
        }
      ]
    },
    {
      "cell_type": "code",
      "source": [
        "## Evaluasi dengan Classification Report\n",
        "\n",
        "# Menggunakan fungsi Classification Report dari sklearn\n",
        "from sklearn.metrics import classification_report\n",
        "\n",
        "# Kita akan cek hasil confusion matrix antara hasil sebenarnya dengan prediksi dari model ke data test\n",
        "report = classification_report(yn_test, yn_preddt2)\n",
        "\n",
        "# cek hasil matrix\n",
        "print(report)"
      ],
      "metadata": {
        "colab": {
          "base_uri": "https://localhost:8080/"
        },
        "id": "Vn3eG3VrMYWc",
        "outputId": "fbb237b0-44dc-4e72-aded-44969ab5e102"
      },
      "execution_count": null,
      "outputs": [
        {
          "output_type": "stream",
          "name": "stdout",
          "text": [
            "              precision    recall  f1-score   support\n",
            "\n",
            "           0       0.96      0.96      0.96      8515\n",
            "           1       0.96      0.96      0.96     44729\n",
            "           2       0.15      0.16      0.16       154\n",
            "           3       0.35      0.32      0.33       147\n",
            "           4       0.22      0.26      0.24       367\n",
            "           5       0.99      0.98      0.98     37039\n",
            "           6       0.04      0.04      0.04       665\n",
            "           7       0.01      0.01      0.01       262\n",
            "           8       0.35      0.36      0.35      1379\n",
            "\n",
            "    accuracy                           0.95     93257\n",
            "   macro avg       0.45      0.45      0.45     93257\n",
            "weighted avg       0.95      0.95      0.95     93257\n",
            "\n"
          ]
        }
      ]
    }
  ]
}